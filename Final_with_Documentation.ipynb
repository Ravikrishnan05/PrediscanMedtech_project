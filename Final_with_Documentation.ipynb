{
  "nbformat": 4,
  "nbformat_minor": 0,
  "metadata": {
    "colab": {
      "provenance": [],
      "authorship_tag": "ABX9TyOjffPhmIMIVMcXJztSoCvW",
      "include_colab_link": true
    },
    "kernelspec": {
      "name": "python3",
      "display_name": "Python 3"
    },
    "language_info": {
      "name": "python"
    }
  },
  "cells": [
    {
      "cell_type": "markdown",
      "metadata": {
        "id": "view-in-github",
        "colab_type": "text"
      },
      "source": [
        "<a href=\"https://colab.research.google.com/github/Ravikrishnan05/PrediscanMedtech_project/blob/main/Final_with_Documentation.ipynb\" target=\"_parent\"><img src=\"https://colab.research.google.com/assets/colab-badge.svg\" alt=\"Open In Colab\"/></a>"
      ]
    },
    {
      "cell_type": "code",
      "execution_count": 4,
      "metadata": {
        "id": "EGqwZUEwzy9h"
      },
      "outputs": [],
      "source": []
    },
    {
      "cell_type": "markdown",
      "source": [
        "## Custom InceptionV3 Model with Attention Mechanism\n",
        "\n",
        "In this code, we are building a custom model using **InceptionV3** as the backbone, with additional custom layers for specific tasks, such as applying attention mechanisms and performing classification.\n",
        "\n",
        "### 1. **Import Libraries**\n",
        "The required libraries are imported:\n",
        "- **Keras**: For building the neural network model and loading the pre-trained InceptionV3.\n",
        "- **TensorFlow**: To provide the necessary computational backend for training and inference.\n",
        "- **NumPy**: Used for handling arrays and initializing certain layers with custom weights."
      ],
      "metadata": {
        "id": "4RFzp3S9z3X7"
      }
    },
    {
      "cell_type": "code",
      "source": [
        "import numpy as np\n",
        "from keras.applications.inception_v3 import InceptionV3\n",
        "from keras.layers import GlobalAveragePooling2D, Dense, Dropout, Input, Conv2D, multiply, Lambda, BatchNormalization\n",
        "from keras.models import Model\n",
        "import tensorflow as tf\n",
        "from keras.utils import get_source_inputs"
      ],
      "metadata": {
        "id": "mbmC-kZPz6ZV"
      },
      "execution_count": 5,
      "outputs": []
    },
    {
      "cell_type": "markdown",
      "source": [
        "### 2. **Defining Input Shape**\n",
        "Here, we specify the input shape for the model. In this case, the input shape is `(512, 512, 3)`, which means the model expects images of size `512x512` with 3 color channels (RGB). You can adjust the dimensions based on the dataset.\n"
      ],
      "metadata": {
        "id": "URFzoVIK0DKV"
      }
    },
    {
      "cell_type": "code",
      "source": [
        "# Set input shape (e.g., from your data)\n",
        "input_shape = (512, 512, 3)"
      ],
      "metadata": {
        "id": "yZZ7-pn41ByE"
      },
      "execution_count": 6,
      "outputs": []
    },
    {
      "cell_type": "markdown",
      "source": [
        "### 3. **Loading Pre-trained InceptionV3 Model**\n",
        "We load the **InceptionV3** model, excluding its top layers (the fully connected layers), and initialize the weights from the **ImageNet** dataset. This provides the model with a good starting point for learning from image data. The model is configured to exclude the top layers so we can add our custom layers on top for specific tasks like attention mechanisms and classification.\n"
      ],
      "metadata": {
        "id": "ZxLd-POf0uDw"
      }
    },
    {
      "cell_type": "code",
      "source": [
        "# Create a new InceptionV3 model with the same configuration as the original\n",
        "base_pretrained_model = InceptionV3(\n",
        "    input_shape=input_shape, include_top=False, weights='imagenet'\n",
        ")"
      ],
      "metadata": {
        "colab": {
          "base_uri": "https://localhost:8080/"
        },
        "id": "xAVNuEy81BMU",
        "outputId": "44e2886a-2563-4a51-e964-4aedda72d557"
      },
      "execution_count": 7,
      "outputs": [
        {
          "output_type": "stream",
          "name": "stdout",
          "text": [
            "Downloading data from https://storage.googleapis.com/tensorflow/keras-applications/inception_v3/inception_v3_weights_tf_dim_ordering_tf_kernels_notop.h5\n",
            "\u001b[1m87910968/87910968\u001b[0m \u001b[32m━━━━━━━━━━━━━━━━━━━━\u001b[0m\u001b[37m\u001b[0m \u001b[1m1s\u001b[0m 0us/step\n"
          ]
        }
      ]
    },
    {
      "cell_type": "markdown",
      "source": [
        "### 4. **Freezing the Base Model Layers**\n",
        "We freeze the layers of the pre-trained **InceptionV3** model. This ensures that the learned weights from ImageNet remain unchanged during training. Freezing helps speed up the training process and prevents overfitting by reusing features learned from a large dataset like ImageNet.\n"
      ],
      "metadata": {
        "id": "BGKJKvom0zO2"
      }
    },
    {
      "cell_type": "code",
      "source": [
        "in_lay = get_source_inputs(base_pretrained_model.output)[0]\n",
        "\n",
        "base_pretrained_model.trainable = False\n",
        "pt_depth = base_pretrained_model.output_shape[-1]\n",
        "\n",
        "pt_features = base_pretrained_model(in_lay)"
      ],
      "metadata": {
        "id": "A1Gj_5gz1Ahz"
      },
      "execution_count": 8,
      "outputs": []
    },
    {
      "cell_type": "markdown",
      "source": [
        "### 5. **Adding Custom Layers**\n",
        "After loading the pre-trained model, we add several custom layers on top:\n",
        "- **BatchNormalization**: To normalize the feature maps coming from the InceptionV3 model. This helps with training stability and faster convergence.\n",
        "- **Dropout**: Used to prevent overfitting by randomly setting a fraction of input units to 0 during training.\n",
        "- **Conv2D**: 1x1 convolutions to further process the feature maps from InceptionV3. These layers help the model to learn more specialized features.\n",
        "- **Multiply**: We use this layer to implement an attention mechanism by multiplying the features with a learned attention map, allowing the model to focus on important regions.\n"
      ],
      "metadata": {
        "id": "VDD7ITfl01gJ"
      }
    },
    {
      "cell_type": "code",
      "source": [
        "# Apply your custom layers on top of InceptionV3\n",
        "bn_features = BatchNormalization()(pt_features)\n",
        "x = Dropout(0.5, name='dropout_1')(bn_features)\n",
        "x = Conv2D(64, kernel_size=(1, 1), padding='same', activation='relu', name='conv2d_95')(x)\n",
        "x = Conv2D(16, kernel_size=(1, 1), padding='same', activation='relu', name='conv2d_96')(x)\n",
        "x = Conv2D(8, kernel_size=(1, 1), padding='same', activation='relu', name='conv2d_97')(x)\n",
        "x = Conv2D(1, kernel_size=(1, 1), padding='valid', activation='sigmoid', name='conv2d_98')(x)"
      ],
      "metadata": {
        "id": "6olWmd3h0_zM"
      },
      "execution_count": 9,
      "outputs": []
    },
    {
      "cell_type": "markdown",
      "source": [
        "### 6. **Applying Attention Mechanism**\n",
        "We create a custom attention mechanism using the **Conv2D** layer. The weight of the attention map is initialized to ones, and then it is applied to the feature map from the InceptionV3 model to selectively focus on important regions.\n"
      ],
      "metadata": {
        "id": "T2aFTCmc03zj"
      }
    },
    {
      "cell_type": "code",
      "source": [
        "up_c2_w = np.ones((1, 1, 1, pt_depth), dtype=np.float32)\n",
        "up_c2 = Conv2D(pt_depth, kernel_size=(1, 1), padding='same', activation='linear', use_bias=False, name='conv2d_99')\n",
        "up_c2.build((None, *x.shape[1:]))\n",
        "up_c2.set_weights([up_c2_w])\n",
        "up_c2.trainable = False\n",
        "attn_layer = up_c2(x)"
      ],
      "metadata": {
        "id": "uyLar5CK0-5K"
      },
      "execution_count": 10,
      "outputs": []
    },
    {
      "cell_type": "markdown",
      "source": [
        "### 7. **Global Average Pooling**\n",
        "The feature maps are passed through a **GlobalAveragePooling2D** layer, which reduces the spatial dimensions while retaining essential information. This step summarizes the feature maps into a single vector per image.\n"
      ],
      "metadata": {
        "id": "oG6qH8lu07JP"
      }
    },
    {
      "cell_type": "code",
      "source": [
        "mask_features = multiply([attn_layer, bn_features], name='multiply_1')\n",
        "gap_features = GlobalAveragePooling2D(name='global_average_pooling2d_1')(mask_features)\n",
        "gap_mask = GlobalAveragePooling2D(name='global_average_pooling2d_2')(attn_layer)\n",
        "gap = Lambda(lambda x: x[0] / x[1], name='RescaleGAP')([gap_features, gap_mask])"
      ],
      "metadata": {
        "id": "6dgB1PaCz-70"
      },
      "execution_count": 11,
      "outputs": []
    },
    {
      "cell_type": "markdown",
      "source": [
        "\n",
        "### 8. **Dense Layers and Output Layer**\n",
        "After the pooling step, we use a dense layer with **Dropout** for regularization and then add the final output layer with 5 units and a **softmax** activation function. This gives the model a probability distribution over 5 classes for classification tasks.\n"
      ],
      "metadata": {
        "id": "pt-14EJU09ny"
      }
    },
    {
      "cell_type": "code",
      "source": [
        "gap_dr = Dropout(0.25, name='dropout_2')(gap)\n",
        "dr_steps = Dropout(0.25, name='dropout_3')(Dense(128, activation='relu', name='dense_1')(gap_dr))\n",
        "out_layer = Dense(5, activation='softmax', name='dense_2')(dr_steps)"
      ],
      "metadata": {
        "id": "9_vljezD099b"
      },
      "execution_count": 12,
      "outputs": []
    },
    {
      "cell_type": "markdown",
      "source": [
        "### 9. **Output layer**\n",
        "We then define the Model by specifying the input and output layers. This model is the final architecture, combining the InceptionV3 backbone with the custom layers.\n"
      ],
      "metadata": {
        "id": "voDiIcie2Q6E"
      }
    },
    {
      "cell_type": "code",
      "source": [
        "retina_model = Model(inputs=[in_lay], outputs=[out_layer])"
      ],
      "metadata": {
        "id": "IdBy6d732dyt"
      },
      "execution_count": 13,
      "outputs": []
    },
    {
      "cell_type": "markdown",
      "source": [
        "### 10. **Loading Weights**\n",
        "The model weights are loaded from a pre-trained `.h5` file. The `by_name=True` argument ensures that the weights are loaded into the corresponding layers by matching their names. We also use `skip_mismatch=True` to ignore any mismatches between the saved weights and the current model architecture."
      ],
      "metadata": {
        "id": "i95iz0Gi1HBf"
      }
    },
    {
      "cell_type": "markdown",
      "source": [],
      "metadata": {
        "id": "SvLszzhu2nBO"
      }
    },
    {
      "cell_type": "code",
      "source": [
        "retina_model.load_weights('/content/full_retina_model (2).h5', by_name=True, skip_mismatch=True)"
      ],
      "metadata": {
        "colab": {
          "base_uri": "https://localhost:8080/"
        },
        "id": "1HP1io3C1HaV",
        "outputId": "f846102b-2358-46c1-a4c5-a2972e7b9cba"
      },
      "execution_count": 14,
      "outputs": [
        {
          "output_type": "stream",
          "name": "stderr",
          "text": [
            "/usr/local/lib/python3.11/dist-packages/keras/src/legacy/saving/legacy_h5_format.py:513: UserWarning: Skipping loading weights for layer #1 (named inception_v3)due to mismatch in shape for weight batch_normalization/moving_mean. Weight expects shape (32,). Received saved weight with shape (3, 3, 32, 32)\n",
            "  _set_weights(\n",
            "/usr/local/lib/python3.11/dist-packages/keras/src/legacy/saving/legacy_h5_format.py:513: UserWarning: Skipping loading weights for layer #1 (named inception_v3)due to mismatch in shape for weight conv2d_1/kernel. Weight expects shape (3, 3, 32, 32). Received saved weight with shape (3, 3, 32, 64)\n",
            "  _set_weights(\n",
            "/usr/local/lib/python3.11/dist-packages/keras/src/legacy/saving/legacy_h5_format.py:513: UserWarning: Skipping loading weights for layer #1 (named inception_v3)due to mismatch in shape for weight batch_normalization_1/beta. Weight expects shape (32,). Received saved weight with shape (64,)\n",
            "  _set_weights(\n",
            "/usr/local/lib/python3.11/dist-packages/keras/src/legacy/saving/legacy_h5_format.py:513: UserWarning: Skipping loading weights for layer #1 (named inception_v3)due to mismatch in shape for weight batch_normalization_1/moving_mean. Weight expects shape (32,). Received saved weight with shape (1, 1, 64, 80)\n",
            "  _set_weights(\n",
            "/usr/local/lib/python3.11/dist-packages/keras/src/legacy/saving/legacy_h5_format.py:513: UserWarning: Skipping loading weights for layer #1 (named inception_v3)due to mismatch in shape for weight batch_normalization_1/moving_variance. Weight expects shape (32,). Received saved weight with shape (80,)\n",
            "  _set_weights(\n",
            "/usr/local/lib/python3.11/dist-packages/keras/src/legacy/saving/legacy_h5_format.py:513: UserWarning: Skipping loading weights for layer #1 (named inception_v3)due to mismatch in shape for weight conv2d_2/kernel. Weight expects shape (3, 3, 32, 64). Received saved weight with shape (3, 3, 80, 192)\n",
            "  _set_weights(\n",
            "/usr/local/lib/python3.11/dist-packages/keras/src/legacy/saving/legacy_h5_format.py:513: UserWarning: Skipping loading weights for layer #1 (named inception_v3)due to mismatch in shape for weight batch_normalization_2/beta. Weight expects shape (64,). Received saved weight with shape (192,)\n",
            "  _set_weights(\n",
            "/usr/local/lib/python3.11/dist-packages/keras/src/legacy/saving/legacy_h5_format.py:513: UserWarning: Skipping loading weights for layer #1 (named inception_v3)due to mismatch in shape for weight batch_normalization_2/moving_mean. Weight expects shape (64,). Received saved weight with shape (1, 1, 192, 64)\n",
            "  _set_weights(\n",
            "/usr/local/lib/python3.11/dist-packages/keras/src/legacy/saving/legacy_h5_format.py:513: UserWarning: Skipping loading weights for layer #1 (named inception_v3)due to mismatch in shape for weight conv2d_3/kernel. Weight expects shape (1, 1, 64, 80). Received saved weight with shape (1, 1, 192, 48)\n",
            "  _set_weights(\n",
            "/usr/local/lib/python3.11/dist-packages/keras/src/legacy/saving/legacy_h5_format.py:513: UserWarning: Skipping loading weights for layer #1 (named inception_v3)due to mismatch in shape for weight batch_normalization_3/beta. Weight expects shape (80,). Received saved weight with shape (3, 3, 64, 96)\n",
            "  _set_weights(\n",
            "/usr/local/lib/python3.11/dist-packages/keras/src/legacy/saving/legacy_h5_format.py:513: UserWarning: Skipping loading weights for layer #1 (named inception_v3)due to mismatch in shape for weight batch_normalization_3/moving_mean. Weight expects shape (80,). Received saved weight with shape (48,)\n",
            "  _set_weights(\n",
            "/usr/local/lib/python3.11/dist-packages/keras/src/legacy/saving/legacy_h5_format.py:513: UserWarning: Skipping loading weights for layer #1 (named inception_v3)due to mismatch in shape for weight batch_normalization_3/moving_variance. Weight expects shape (80,). Received saved weight with shape (96,)\n",
            "  _set_weights(\n",
            "/usr/local/lib/python3.11/dist-packages/keras/src/legacy/saving/legacy_h5_format.py:513: UserWarning: Skipping loading weights for layer #1 (named inception_v3)due to mismatch in shape for weight conv2d_4/kernel. Weight expects shape (3, 3, 80, 192). Received saved weight with shape (1, 1, 192, 64)\n",
            "  _set_weights(\n",
            "/usr/local/lib/python3.11/dist-packages/keras/src/legacy/saving/legacy_h5_format.py:513: UserWarning: Skipping loading weights for layer #1 (named inception_v3)due to mismatch in shape for weight batch_normalization_4/beta. Weight expects shape (192,). Received saved weight with shape (5, 5, 48, 64)\n",
            "  _set_weights(\n",
            "/usr/local/lib/python3.11/dist-packages/keras/src/legacy/saving/legacy_h5_format.py:513: UserWarning: Skipping loading weights for layer #1 (named inception_v3)due to mismatch in shape for weight batch_normalization_4/moving_mean. Weight expects shape (192,). Received saved weight with shape (3, 3, 96, 96)\n",
            "  _set_weights(\n",
            "/usr/local/lib/python3.11/dist-packages/keras/src/legacy/saving/legacy_h5_format.py:513: UserWarning: Skipping loading weights for layer #1 (named inception_v3)due to mismatch in shape for weight batch_normalization_4/moving_variance. Weight expects shape (192,). Received saved weight with shape (1, 1, 192, 32)\n",
            "  _set_weights(\n",
            "/usr/local/lib/python3.11/dist-packages/keras/src/legacy/saving/legacy_h5_format.py:513: UserWarning: Skipping loading weights for layer #1 (named inception_v3)due to mismatch in shape for weight conv2d_8/kernel. Weight expects shape (1, 1, 192, 64). Received saved weight with shape (64,)\n",
            "  _set_weights(\n",
            "/usr/local/lib/python3.11/dist-packages/keras/src/legacy/saving/legacy_h5_format.py:513: UserWarning: Skipping loading weights for layer #1 (named inception_v3)due to mismatch in shape for weight batch_normalization_8/moving_mean. Weight expects shape (64,). Received saved weight with shape (96,)\n",
            "  _set_weights(\n",
            "/usr/local/lib/python3.11/dist-packages/keras/src/legacy/saving/legacy_h5_format.py:513: UserWarning: Skipping loading weights for layer #1 (named inception_v3)due to mismatch in shape for weight batch_normalization_8/moving_variance. Weight expects shape (64,). Received saved weight with shape (32,)\n",
            "  _set_weights(\n",
            "/usr/local/lib/python3.11/dist-packages/keras/src/legacy/saving/legacy_h5_format.py:513: UserWarning: Skipping loading weights for layer #1 (named inception_v3)due to mismatch in shape for weight conv2d_6/kernel. Weight expects shape (1, 1, 192, 48). Received saved weight with shape (1, 1, 256, 64)\n",
            "  _set_weights(\n",
            "/usr/local/lib/python3.11/dist-packages/keras/src/legacy/saving/legacy_h5_format.py:513: UserWarning: Skipping loading weights for layer #1 (named inception_v3)due to mismatch in shape for weight conv2d_9/kernel. Weight expects shape (3, 3, 64, 96). Received saved weight with shape (64,)\n",
            "  _set_weights(\n",
            "/usr/local/lib/python3.11/dist-packages/keras/src/legacy/saving/legacy_h5_format.py:513: UserWarning: Skipping loading weights for layer #1 (named inception_v3)due to mismatch in shape for weight batch_normalization_6/beta. Weight expects shape (48,). Received saved weight with shape (1, 1, 256, 48)\n",
            "  _set_weights(\n",
            "/usr/local/lib/python3.11/dist-packages/keras/src/legacy/saving/legacy_h5_format.py:513: UserWarning: Skipping loading weights for layer #1 (named inception_v3)due to mismatch in shape for weight batch_normalization_6/moving_mean. Weight expects shape (48,). Received saved weight with shape (3, 3, 64, 96)\n",
            "  _set_weights(\n",
            "/usr/local/lib/python3.11/dist-packages/keras/src/legacy/saving/legacy_h5_format.py:513: UserWarning: Skipping loading weights for layer #1 (named inception_v3)due to mismatch in shape for weight batch_normalization_9/moving_mean. Weight expects shape (96,). Received saved weight with shape (1, 1, 256, 64)\n",
            "  _set_weights(\n",
            "/usr/local/lib/python3.11/dist-packages/keras/src/legacy/saving/legacy_h5_format.py:513: UserWarning: Skipping loading weights for layer #1 (named inception_v3)due to mismatch in shape for weight batch_normalization_9/moving_variance. Weight expects shape (96,). Received saved weight with shape (5, 5, 48, 64)\n",
            "  _set_weights(\n",
            "/usr/local/lib/python3.11/dist-packages/keras/src/legacy/saving/legacy_h5_format.py:513: UserWarning: Skipping loading weights for layer #1 (named inception_v3)due to mismatch in shape for weight conv2d_5/kernel. Weight expects shape (1, 1, 192, 64). Received saved weight with shape (3, 3, 96, 96)\n",
            "  _set_weights(\n",
            "/usr/local/lib/python3.11/dist-packages/keras/src/legacy/saving/legacy_h5_format.py:513: UserWarning: Skipping loading weights for layer #1 (named inception_v3)due to mismatch in shape for weight conv2d_7/kernel. Weight expects shape (5, 5, 48, 64). Received saved weight with shape (1, 1, 256, 64)\n",
            "  _set_weights(\n",
            "/usr/local/lib/python3.11/dist-packages/keras/src/legacy/saving/legacy_h5_format.py:513: UserWarning: Skipping loading weights for layer #1 (named inception_v3)due to mismatch in shape for weight conv2d_10/kernel. Weight expects shape (3, 3, 96, 96). Received saved weight with shape (64,)\n",
            "  _set_weights(\n",
            "/usr/local/lib/python3.11/dist-packages/keras/src/legacy/saving/legacy_h5_format.py:513: UserWarning: Skipping loading weights for layer #1 (named inception_v3)due to mismatch in shape for weight conv2d_11/kernel. Weight expects shape (1, 1, 192, 32). Received saved weight with shape (64,)\n",
            "  _set_weights(\n",
            "/usr/local/lib/python3.11/dist-packages/keras/src/legacy/saving/legacy_h5_format.py:513: UserWarning: Skipping loading weights for layer #1 (named inception_v3)due to mismatch in shape for weight batch_normalization_5/beta. Weight expects shape (64,). Received saved weight with shape (96,)\n",
            "  _set_weights(\n",
            "/usr/local/lib/python3.11/dist-packages/keras/src/legacy/saving/legacy_h5_format.py:513: UserWarning: Skipping loading weights for layer #1 (named inception_v3)due to mismatch in shape for weight batch_normalization_5/moving_variance. Weight expects shape (64,). Received saved weight with shape (1, 1, 288, 64)\n",
            "  _set_weights(\n",
            "/usr/local/lib/python3.11/dist-packages/keras/src/legacy/saving/legacy_h5_format.py:513: UserWarning: Skipping loading weights for layer #1 (named inception_v3)due to mismatch in shape for weight batch_normalization_7/moving_mean. Weight expects shape (64,). Received saved weight with shape (1, 1, 288, 48)\n",
            "  _set_weights(\n",
            "/usr/local/lib/python3.11/dist-packages/keras/src/legacy/saving/legacy_h5_format.py:513: UserWarning: Skipping loading weights for layer #1 (named inception_v3)due to mismatch in shape for weight batch_normalization_7/moving_variance. Weight expects shape (64,). Received saved weight with shape (3, 3, 64, 96)\n",
            "  _set_weights(\n",
            "/usr/local/lib/python3.11/dist-packages/keras/src/legacy/saving/legacy_h5_format.py:513: UserWarning: Skipping loading weights for layer #1 (named inception_v3)due to mismatch in shape for weight batch_normalization_10/beta. Weight expects shape (96,). Received saved weight with shape (48,)\n",
            "  _set_weights(\n",
            "/usr/local/lib/python3.11/dist-packages/keras/src/legacy/saving/legacy_h5_format.py:513: UserWarning: Skipping loading weights for layer #1 (named inception_v3)due to mismatch in shape for weight batch_normalization_10/moving_variance. Weight expects shape (96,). Received saved weight with shape (1, 1, 288, 64)\n",
            "  _set_weights(\n",
            "/usr/local/lib/python3.11/dist-packages/keras/src/legacy/saving/legacy_h5_format.py:513: UserWarning: Skipping loading weights for layer #1 (named inception_v3)due to mismatch in shape for weight batch_normalization_11/beta. Weight expects shape (32,). Received saved weight with shape (5, 5, 48, 64)\n",
            "  _set_weights(\n",
            "/usr/local/lib/python3.11/dist-packages/keras/src/legacy/saving/legacy_h5_format.py:513: UserWarning: Skipping loading weights for layer #1 (named inception_v3)due to mismatch in shape for weight batch_normalization_11/moving_mean. Weight expects shape (32,). Received saved weight with shape (3, 3, 96, 96)\n",
            "  _set_weights(\n",
            "/usr/local/lib/python3.11/dist-packages/keras/src/legacy/saving/legacy_h5_format.py:513: UserWarning: Skipping loading weights for layer #1 (named inception_v3)due to mismatch in shape for weight batch_normalization_11/moving_variance. Weight expects shape (32,). Received saved weight with shape (1, 1, 288, 64)\n",
            "  _set_weights(\n",
            "/usr/local/lib/python3.11/dist-packages/keras/src/legacy/saving/legacy_h5_format.py:513: UserWarning: Skipping loading weights for layer #1 (named inception_v3)due to mismatch in shape for weight conv2d_15/kernel. Weight expects shape (1, 1, 256, 64). Received saved weight with shape (64,)\n",
            "  _set_weights(\n",
            "/usr/local/lib/python3.11/dist-packages/keras/src/legacy/saving/legacy_h5_format.py:513: UserWarning: Skipping loading weights for layer #1 (named inception_v3)due to mismatch in shape for weight batch_normalization_15/moving_mean. Weight expects shape (64,). Received saved weight with shape (96,)\n",
            "  _set_weights(\n",
            "/usr/local/lib/python3.11/dist-packages/keras/src/legacy/saving/legacy_h5_format.py:513: UserWarning: Skipping loading weights for layer #1 (named inception_v3)due to mismatch in shape for weight conv2d_13/kernel. Weight expects shape (1, 1, 256, 48). Received saved weight with shape (1, 1, 288, 64)\n",
            "  _set_weights(\n",
            "/usr/local/lib/python3.11/dist-packages/keras/src/legacy/saving/legacy_h5_format.py:513: UserWarning: Skipping loading weights for layer #1 (named inception_v3)due to mismatch in shape for weight conv2d_16/kernel. Weight expects shape (3, 3, 64, 96). Received saved weight with shape (64,)\n",
            "  _set_weights(\n",
            "/usr/local/lib/python3.11/dist-packages/keras/src/legacy/saving/legacy_h5_format.py:513: UserWarning: Skipping loading weights for layer #1 (named inception_v3)due to mismatch in shape for weight batch_normalization_13/beta. Weight expects shape (48,). Received saved weight with shape (3, 3, 64, 96)\n",
            "  _set_weights(\n",
            "/usr/local/lib/python3.11/dist-packages/keras/src/legacy/saving/legacy_h5_format.py:513: UserWarning: Skipping loading weights for layer #1 (named inception_v3)due to mismatch in shape for weight batch_normalization_13/moving_mean. Weight expects shape (48,). Received saved weight with shape (96,)\n",
            "  _set_weights(\n",
            "/usr/local/lib/python3.11/dist-packages/keras/src/legacy/saving/legacy_h5_format.py:513: UserWarning: Skipping loading weights for layer #1 (named inception_v3)due to mismatch in shape for weight batch_normalization_13/moving_variance. Weight expects shape (48,). Received saved weight with shape (3, 3, 288, 384)\n",
            "  _set_weights(\n",
            "/usr/local/lib/python3.11/dist-packages/keras/src/legacy/saving/legacy_h5_format.py:513: UserWarning: Skipping loading weights for layer #1 (named inception_v3)due to mismatch in shape for weight batch_normalization_16/beta. Weight expects shape (96,). Received saved weight with shape (3, 3, 96, 96)\n",
            "  _set_weights(\n",
            "/usr/local/lib/python3.11/dist-packages/keras/src/legacy/saving/legacy_h5_format.py:513: UserWarning: Skipping loading weights for layer #1 (named inception_v3)due to mismatch in shape for weight batch_normalization_16/moving_mean. Weight expects shape (96,). Received saved weight with shape (384,)\n",
            "  _set_weights(\n",
            "/usr/local/lib/python3.11/dist-packages/keras/src/legacy/saving/legacy_h5_format.py:513: UserWarning: Skipping loading weights for layer #1 (named inception_v3)due to mismatch in shape for weight conv2d_12/kernel. Weight expects shape (1, 1, 256, 64). Received saved weight with shape (1, 1, 768, 128)\n",
            "  _set_weights(\n",
            "/usr/local/lib/python3.11/dist-packages/keras/src/legacy/saving/legacy_h5_format.py:513: UserWarning: Skipping loading weights for layer #1 (named inception_v3)due to mismatch in shape for weight conv2d_14/kernel. Weight expects shape (5, 5, 48, 64). Received saved weight with shape (128,)\n",
            "  _set_weights(\n",
            "/usr/local/lib/python3.11/dist-packages/keras/src/legacy/saving/legacy_h5_format.py:513: UserWarning: Skipping loading weights for layer #1 (named inception_v3)due to mismatch in shape for weight conv2d_17/kernel. Weight expects shape (3, 3, 96, 96). Received saved weight with shape (7, 1, 128, 128)\n",
            "  _set_weights(\n",
            "/usr/local/lib/python3.11/dist-packages/keras/src/legacy/saving/legacy_h5_format.py:513: UserWarning: Skipping loading weights for layer #1 (named inception_v3)due to mismatch in shape for weight conv2d_18/kernel. Weight expects shape (1, 1, 256, 64). Received saved weight with shape (128,)\n",
            "  _set_weights(\n",
            "/usr/local/lib/python3.11/dist-packages/keras/src/legacy/saving/legacy_h5_format.py:513: UserWarning: Skipping loading weights for layer #1 (named inception_v3)due to mismatch in shape for weight batch_normalization_12/beta. Weight expects shape (64,). Received saved weight with shape (1, 1, 768, 128)\n",
            "  _set_weights(\n",
            "/usr/local/lib/python3.11/dist-packages/keras/src/legacy/saving/legacy_h5_format.py:513: UserWarning: Skipping loading weights for layer #1 (named inception_v3)due to mismatch in shape for weight batch_normalization_12/moving_mean. Weight expects shape (64,). Received saved weight with shape (1, 7, 128, 128)\n",
            "  _set_weights(\n",
            "/usr/local/lib/python3.11/dist-packages/keras/src/legacy/saving/legacy_h5_format.py:513: UserWarning: Skipping loading weights for layer #1 (named inception_v3)due to mismatch in shape for weight batch_normalization_12/moving_variance. Weight expects shape (64,). Received saved weight with shape (128,)\n",
            "  _set_weights(\n",
            "/usr/local/lib/python3.11/dist-packages/keras/src/legacy/saving/legacy_h5_format.py:513: UserWarning: Skipping loading weights for layer #1 (named inception_v3)due to mismatch in shape for weight batch_normalization_14/beta. Weight expects shape (64,). Received saved weight with shape (128,)\n",
            "  _set_weights(\n",
            "/usr/local/lib/python3.11/dist-packages/keras/src/legacy/saving/legacy_h5_format.py:513: UserWarning: Skipping loading weights for layer #1 (named inception_v3)due to mismatch in shape for weight batch_normalization_14/moving_mean. Weight expects shape (64,). Received saved weight with shape (1, 7, 128, 128)\n",
            "  _set_weights(\n",
            "/usr/local/lib/python3.11/dist-packages/keras/src/legacy/saving/legacy_h5_format.py:513: UserWarning: Skipping loading weights for layer #1 (named inception_v3)due to mismatch in shape for weight batch_normalization_14/moving_variance. Weight expects shape (64,). Received saved weight with shape (7, 1, 128, 128)\n",
            "  _set_weights(\n",
            "/usr/local/lib/python3.11/dist-packages/keras/src/legacy/saving/legacy_h5_format.py:513: UserWarning: Skipping loading weights for layer #1 (named inception_v3)due to mismatch in shape for weight batch_normalization_17/beta. Weight expects shape (96,). Received saved weight with shape (128,)\n",
            "  _set_weights(\n",
            "/usr/local/lib/python3.11/dist-packages/keras/src/legacy/saving/legacy_h5_format.py:513: UserWarning: Skipping loading weights for layer #1 (named inception_v3)due to mismatch in shape for weight batch_normalization_17/moving_mean. Weight expects shape (96,). Received saved weight with shape (128,)\n",
            "  _set_weights(\n",
            "/usr/local/lib/python3.11/dist-packages/keras/src/legacy/saving/legacy_h5_format.py:513: UserWarning: Skipping loading weights for layer #1 (named inception_v3)due to mismatch in shape for weight batch_normalization_17/moving_variance. Weight expects shape (96,). Received saved weight with shape (1, 1, 768, 192)\n",
            "  _set_weights(\n",
            "/usr/local/lib/python3.11/dist-packages/keras/src/legacy/saving/legacy_h5_format.py:513: UserWarning: Skipping loading weights for layer #1 (named inception_v3)due to mismatch in shape for weight batch_normalization_18/beta. Weight expects shape (64,). Received saved weight with shape (7, 1, 128, 192)\n",
            "  _set_weights(\n",
            "/usr/local/lib/python3.11/dist-packages/keras/src/legacy/saving/legacy_h5_format.py:513: UserWarning: Skipping loading weights for layer #1 (named inception_v3)due to mismatch in shape for weight batch_normalization_18/moving_mean. Weight expects shape (64,). Received saved weight with shape (1, 7, 128, 192)\n",
            "  _set_weights(\n",
            "/usr/local/lib/python3.11/dist-packages/keras/src/legacy/saving/legacy_h5_format.py:513: UserWarning: Skipping loading weights for layer #1 (named inception_v3)due to mismatch in shape for weight batch_normalization_18/moving_variance. Weight expects shape (64,). Received saved weight with shape (1, 1, 768, 192)\n",
            "  _set_weights(\n",
            "/usr/local/lib/python3.11/dist-packages/keras/src/legacy/saving/legacy_h5_format.py:513: UserWarning: Skipping loading weights for layer #1 (named inception_v3)due to mismatch in shape for weight conv2d_22/kernel. Weight expects shape (1, 1, 288, 64). Received saved weight with shape (192,)\n",
            "  _set_weights(\n",
            "/usr/local/lib/python3.11/dist-packages/keras/src/legacy/saving/legacy_h5_format.py:513: UserWarning: Skipping loading weights for layer #1 (named inception_v3)due to mismatch in shape for weight batch_normalization_22/beta. Weight expects shape (64,). Received saved weight with shape (192,)\n",
            "  _set_weights(\n",
            "/usr/local/lib/python3.11/dist-packages/keras/src/legacy/saving/legacy_h5_format.py:513: UserWarning: Skipping loading weights for layer #1 (named inception_v3)due to mismatch in shape for weight batch_normalization_22/moving_mean. Weight expects shape (64,). Received saved weight with shape (192,)\n",
            "  _set_weights(\n",
            "/usr/local/lib/python3.11/dist-packages/keras/src/legacy/saving/legacy_h5_format.py:513: UserWarning: Skipping loading weights for layer #1 (named inception_v3)due to mismatch in shape for weight batch_normalization_22/moving_variance. Weight expects shape (64,). Received saved weight with shape (192,)\n",
            "  _set_weights(\n",
            "/usr/local/lib/python3.11/dist-packages/keras/src/legacy/saving/legacy_h5_format.py:513: UserWarning: Skipping loading weights for layer #1 (named inception_v3)due to mismatch in shape for weight conv2d_20/kernel. Weight expects shape (1, 1, 288, 48). Received saved weight with shape (1, 1, 768, 160)\n",
            "  _set_weights(\n",
            "/usr/local/lib/python3.11/dist-packages/keras/src/legacy/saving/legacy_h5_format.py:513: UserWarning: Skipping loading weights for layer #1 (named inception_v3)due to mismatch in shape for weight conv2d_23/kernel. Weight expects shape (3, 3, 64, 96). Received saved weight with shape (160,)\n",
            "  _set_weights(\n",
            "/usr/local/lib/python3.11/dist-packages/keras/src/legacy/saving/legacy_h5_format.py:513: UserWarning: Skipping loading weights for layer #1 (named inception_v3)due to mismatch in shape for weight batch_normalization_20/beta. Weight expects shape (48,). Received saved weight with shape (7, 1, 160, 160)\n",
            "  _set_weights(\n",
            "/usr/local/lib/python3.11/dist-packages/keras/src/legacy/saving/legacy_h5_format.py:513: UserWarning: Skipping loading weights for layer #1 (named inception_v3)due to mismatch in shape for weight batch_normalization_20/moving_mean. Weight expects shape (48,). Received saved weight with shape (160,)\n",
            "  _set_weights(\n",
            "/usr/local/lib/python3.11/dist-packages/keras/src/legacy/saving/legacy_h5_format.py:513: UserWarning: Skipping loading weights for layer #1 (named inception_v3)due to mismatch in shape for weight batch_normalization_20/moving_variance. Weight expects shape (48,). Received saved weight with shape (1, 1, 768, 160)\n",
            "  _set_weights(\n",
            "/usr/local/lib/python3.11/dist-packages/keras/src/legacy/saving/legacy_h5_format.py:513: UserWarning: Skipping loading weights for layer #1 (named inception_v3)due to mismatch in shape for weight batch_normalization_23/beta. Weight expects shape (96,). Received saved weight with shape (1, 7, 160, 160)\n",
            "  _set_weights(\n",
            "/usr/local/lib/python3.11/dist-packages/keras/src/legacy/saving/legacy_h5_format.py:513: UserWarning: Skipping loading weights for layer #1 (named inception_v3)due to mismatch in shape for weight batch_normalization_23/moving_mean. Weight expects shape (96,). Received saved weight with shape (160,)\n",
            "  _set_weights(\n",
            "/usr/local/lib/python3.11/dist-packages/keras/src/legacy/saving/legacy_h5_format.py:513: UserWarning: Skipping loading weights for layer #1 (named inception_v3)due to mismatch in shape for weight batch_normalization_23/moving_variance. Weight expects shape (96,). Received saved weight with shape (160,)\n",
            "  _set_weights(\n",
            "/usr/local/lib/python3.11/dist-packages/keras/src/legacy/saving/legacy_h5_format.py:513: UserWarning: Skipping loading weights for layer #1 (named inception_v3)due to mismatch in shape for weight conv2d_19/kernel. Weight expects shape (1, 1, 288, 64). Received saved weight with shape (1, 7, 160, 160)\n",
            "  _set_weights(\n",
            "/usr/local/lib/python3.11/dist-packages/keras/src/legacy/saving/legacy_h5_format.py:513: UserWarning: Skipping loading weights for layer #1 (named inception_v3)due to mismatch in shape for weight conv2d_21/kernel. Weight expects shape (5, 5, 48, 64). Received saved weight with shape (7, 1, 160, 160)\n",
            "  _set_weights(\n",
            "/usr/local/lib/python3.11/dist-packages/keras/src/legacy/saving/legacy_h5_format.py:513: UserWarning: Skipping loading weights for layer #1 (named inception_v3)due to mismatch in shape for weight conv2d_24/kernel. Weight expects shape (3, 3, 96, 96). Received saved weight with shape (160,)\n",
            "  _set_weights(\n",
            "/usr/local/lib/python3.11/dist-packages/keras/src/legacy/saving/legacy_h5_format.py:513: UserWarning: Skipping loading weights for layer #1 (named inception_v3)due to mismatch in shape for weight conv2d_25/kernel. Weight expects shape (1, 1, 288, 64). Received saved weight with shape (160,)\n",
            "  _set_weights(\n",
            "/usr/local/lib/python3.11/dist-packages/keras/src/legacy/saving/legacy_h5_format.py:513: UserWarning: Skipping loading weights for layer #1 (named inception_v3)due to mismatch in shape for weight batch_normalization_19/beta. Weight expects shape (64,). Received saved weight with shape (1, 1, 768, 192)\n",
            "  _set_weights(\n",
            "/usr/local/lib/python3.11/dist-packages/keras/src/legacy/saving/legacy_h5_format.py:513: UserWarning: Skipping loading weights for layer #1 (named inception_v3)due to mismatch in shape for weight batch_normalization_19/moving_mean. Weight expects shape (64,). Received saved weight with shape (7, 1, 160, 192)\n",
            "  _set_weights(\n",
            "/usr/local/lib/python3.11/dist-packages/keras/src/legacy/saving/legacy_h5_format.py:513: UserWarning: Skipping loading weights for layer #1 (named inception_v3)due to mismatch in shape for weight batch_normalization_19/moving_variance. Weight expects shape (64,). Received saved weight with shape (1, 7, 160, 192)\n",
            "  _set_weights(\n",
            "/usr/local/lib/python3.11/dist-packages/keras/src/legacy/saving/legacy_h5_format.py:513: UserWarning: Skipping loading weights for layer #1 (named inception_v3)due to mismatch in shape for weight batch_normalization_21/beta. Weight expects shape (64,). Received saved weight with shape (1, 1, 768, 192)\n",
            "  _set_weights(\n",
            "/usr/local/lib/python3.11/dist-packages/keras/src/legacy/saving/legacy_h5_format.py:513: UserWarning: Skipping loading weights for layer #1 (named inception_v3)due to mismatch in shape for weight batch_normalization_21/moving_mean. Weight expects shape (64,). Received saved weight with shape (192,)\n",
            "  _set_weights(\n",
            "/usr/local/lib/python3.11/dist-packages/keras/src/legacy/saving/legacy_h5_format.py:513: UserWarning: Skipping loading weights for layer #1 (named inception_v3)due to mismatch in shape for weight batch_normalization_21/moving_variance. Weight expects shape (64,). Received saved weight with shape (192,)\n",
            "  _set_weights(\n",
            "/usr/local/lib/python3.11/dist-packages/keras/src/legacy/saving/legacy_h5_format.py:513: UserWarning: Skipping loading weights for layer #1 (named inception_v3)due to mismatch in shape for weight batch_normalization_24/beta. Weight expects shape (96,). Received saved weight with shape (192,)\n",
            "  _set_weights(\n",
            "/usr/local/lib/python3.11/dist-packages/keras/src/legacy/saving/legacy_h5_format.py:513: UserWarning: Skipping loading weights for layer #1 (named inception_v3)due to mismatch in shape for weight batch_normalization_24/moving_mean. Weight expects shape (96,). Received saved weight with shape (192,)\n",
            "  _set_weights(\n",
            "/usr/local/lib/python3.11/dist-packages/keras/src/legacy/saving/legacy_h5_format.py:513: UserWarning: Skipping loading weights for layer #1 (named inception_v3)due to mismatch in shape for weight batch_normalization_24/moving_variance. Weight expects shape (96,). Received saved weight with shape (1, 1, 768, 160)\n",
            "  _set_weights(\n",
            "/usr/local/lib/python3.11/dist-packages/keras/src/legacy/saving/legacy_h5_format.py:513: UserWarning: Skipping loading weights for layer #1 (named inception_v3)due to mismatch in shape for weight batch_normalization_25/beta. Weight expects shape (64,). Received saved weight with shape (160,)\n",
            "  _set_weights(\n",
            "/usr/local/lib/python3.11/dist-packages/keras/src/legacy/saving/legacy_h5_format.py:513: UserWarning: Skipping loading weights for layer #1 (named inception_v3)due to mismatch in shape for weight batch_normalization_25/moving_mean. Weight expects shape (64,). Received saved weight with shape (7, 1, 160, 160)\n",
            "  _set_weights(\n",
            "/usr/local/lib/python3.11/dist-packages/keras/src/legacy/saving/legacy_h5_format.py:513: UserWarning: Skipping loading weights for layer #1 (named inception_v3)due to mismatch in shape for weight batch_normalization_25/moving_variance. Weight expects shape (64,). Received saved weight with shape (160,)\n",
            "  _set_weights(\n",
            "/usr/local/lib/python3.11/dist-packages/keras/src/legacy/saving/legacy_h5_format.py:513: UserWarning: Skipping loading weights for layer #1 (named inception_v3)due to mismatch in shape for weight conv2d_27/kernel. Weight expects shape (1, 1, 288, 64). Received saved weight with shape (1, 1, 768, 160)\n",
            "  _set_weights(\n",
            "/usr/local/lib/python3.11/dist-packages/keras/src/legacy/saving/legacy_h5_format.py:513: UserWarning: Skipping loading weights for layer #1 (named inception_v3)due to mismatch in shape for weight batch_normalization_27/beta. Weight expects shape (64,). Received saved weight with shape (1, 7, 160, 160)\n",
            "  _set_weights(\n",
            "/usr/local/lib/python3.11/dist-packages/keras/src/legacy/saving/legacy_h5_format.py:513: UserWarning: Skipping loading weights for layer #1 (named inception_v3)due to mismatch in shape for weight batch_normalization_27/moving_mean. Weight expects shape (64,). Received saved weight with shape (160,)\n",
            "  _set_weights(\n",
            "/usr/local/lib/python3.11/dist-packages/keras/src/legacy/saving/legacy_h5_format.py:513: UserWarning: Skipping loading weights for layer #1 (named inception_v3)due to mismatch in shape for weight batch_normalization_27/moving_variance. Weight expects shape (64,). Received saved weight with shape (160,)\n",
            "  _set_weights(\n",
            "/usr/local/lib/python3.11/dist-packages/keras/src/legacy/saving/legacy_h5_format.py:513: UserWarning: Skipping loading weights for layer #1 (named inception_v3)due to mismatch in shape for weight conv2d_28/kernel. Weight expects shape (3, 3, 64, 96). Received saved weight with shape (1, 7, 160, 160)\n",
            "  _set_weights(\n",
            "/usr/local/lib/python3.11/dist-packages/keras/src/legacy/saving/legacy_h5_format.py:513: UserWarning: Skipping loading weights for layer #1 (named inception_v3)due to mismatch in shape for weight batch_normalization_28/beta. Weight expects shape (96,). Received saved weight with shape (7, 1, 160, 160)\n",
            "  _set_weights(\n",
            "/usr/local/lib/python3.11/dist-packages/keras/src/legacy/saving/legacy_h5_format.py:513: UserWarning: Skipping loading weights for layer #1 (named inception_v3)due to mismatch in shape for weight batch_normalization_28/moving_mean. Weight expects shape (96,). Received saved weight with shape (160,)\n",
            "  _set_weights(\n",
            "/usr/local/lib/python3.11/dist-packages/keras/src/legacy/saving/legacy_h5_format.py:513: UserWarning: Skipping loading weights for layer #1 (named inception_v3)due to mismatch in shape for weight batch_normalization_28/moving_variance. Weight expects shape (96,). Received saved weight with shape (160,)\n",
            "  _set_weights(\n",
            "/usr/local/lib/python3.11/dist-packages/keras/src/legacy/saving/legacy_h5_format.py:513: UserWarning: Skipping loading weights for layer #1 (named inception_v3)due to mismatch in shape for weight conv2d_26/kernel. Weight expects shape (3, 3, 288, 384). Received saved weight with shape (1, 1, 768, 192)\n",
            "  _set_weights(\n",
            "/usr/local/lib/python3.11/dist-packages/keras/src/legacy/saving/legacy_h5_format.py:513: UserWarning: Skipping loading weights for layer #1 (named inception_v3)due to mismatch in shape for weight conv2d_29/kernel. Weight expects shape (3, 3, 96, 96). Received saved weight with shape (7, 1, 160, 192)\n",
            "  _set_weights(\n",
            "/usr/local/lib/python3.11/dist-packages/keras/src/legacy/saving/legacy_h5_format.py:513: UserWarning: Skipping loading weights for layer #1 (named inception_v3)due to mismatch in shape for weight batch_normalization_26/beta. Weight expects shape (384,). Received saved weight with shape (1, 7, 160, 192)\n",
            "  _set_weights(\n",
            "/usr/local/lib/python3.11/dist-packages/keras/src/legacy/saving/legacy_h5_format.py:513: UserWarning: Skipping loading weights for layer #1 (named inception_v3)due to mismatch in shape for weight batch_normalization_26/moving_mean. Weight expects shape (384,). Received saved weight with shape (1, 1, 768, 192)\n",
            "  _set_weights(\n",
            "/usr/local/lib/python3.11/dist-packages/keras/src/legacy/saving/legacy_h5_format.py:513: UserWarning: Skipping loading weights for layer #1 (named inception_v3)due to mismatch in shape for weight batch_normalization_26/moving_variance. Weight expects shape (384,). Received saved weight with shape (192,)\n",
            "  _set_weights(\n",
            "/usr/local/lib/python3.11/dist-packages/keras/src/legacy/saving/legacy_h5_format.py:513: UserWarning: Skipping loading weights for layer #1 (named inception_v3)due to mismatch in shape for weight batch_normalization_29/beta. Weight expects shape (96,). Received saved weight with shape (192,)\n",
            "  _set_weights(\n",
            "/usr/local/lib/python3.11/dist-packages/keras/src/legacy/saving/legacy_h5_format.py:513: UserWarning: Skipping loading weights for layer #1 (named inception_v3)due to mismatch in shape for weight batch_normalization_29/moving_mean. Weight expects shape (96,). Received saved weight with shape (192,)\n",
            "  _set_weights(\n",
            "/usr/local/lib/python3.11/dist-packages/keras/src/legacy/saving/legacy_h5_format.py:513: UserWarning: Skipping loading weights for layer #1 (named inception_v3)due to mismatch in shape for weight batch_normalization_29/moving_variance. Weight expects shape (96,). Received saved weight with shape (192,)\n",
            "  _set_weights(\n",
            "/usr/local/lib/python3.11/dist-packages/keras/src/legacy/saving/legacy_h5_format.py:513: UserWarning: Skipping loading weights for layer #1 (named inception_v3)due to mismatch in shape for weight conv2d_34/kernel. Weight expects shape (1, 1, 768, 128). Received saved weight with shape (1, 1, 768, 192)\n",
            "  _set_weights(\n",
            "/usr/local/lib/python3.11/dist-packages/keras/src/legacy/saving/legacy_h5_format.py:513: UserWarning: Skipping loading weights for layer #1 (named inception_v3)due to mismatch in shape for weight batch_normalization_34/beta. Weight expects shape (128,). Received saved weight with shape (192,)\n",
            "  _set_weights(\n",
            "/usr/local/lib/python3.11/dist-packages/keras/src/legacy/saving/legacy_h5_format.py:513: UserWarning: Skipping loading weights for layer #1 (named inception_v3)due to mismatch in shape for weight batch_normalization_34/moving_mean. Weight expects shape (128,). Received saved weight with shape (7, 1, 192, 192)\n",
            "  _set_weights(\n",
            "/usr/local/lib/python3.11/dist-packages/keras/src/legacy/saving/legacy_h5_format.py:513: UserWarning: Skipping loading weights for layer #1 (named inception_v3)due to mismatch in shape for weight batch_normalization_34/moving_variance. Weight expects shape (128,). Received saved weight with shape (192,)\n",
            "  _set_weights(\n",
            "/usr/local/lib/python3.11/dist-packages/keras/src/legacy/saving/legacy_h5_format.py:513: UserWarning: Skipping loading weights for layer #1 (named inception_v3)due to mismatch in shape for weight conv2d_35/kernel. Weight expects shape (7, 1, 128, 128). Received saved weight with shape (1, 1, 768, 192)\n",
            "  _set_weights(\n",
            "/usr/local/lib/python3.11/dist-packages/keras/src/legacy/saving/legacy_h5_format.py:513: UserWarning: Skipping loading weights for layer #1 (named inception_v3)due to mismatch in shape for weight batch_normalization_35/beta. Weight expects shape (128,). Received saved weight with shape (1, 7, 192, 192)\n",
            "  _set_weights(\n",
            "/usr/local/lib/python3.11/dist-packages/keras/src/legacy/saving/legacy_h5_format.py:513: UserWarning: Skipping loading weights for layer #1 (named inception_v3)due to mismatch in shape for weight batch_normalization_35/moving_mean. Weight expects shape (128,). Received saved weight with shape (192,)\n",
            "  _set_weights(\n",
            "/usr/local/lib/python3.11/dist-packages/keras/src/legacy/saving/legacy_h5_format.py:513: UserWarning: Skipping loading weights for layer #1 (named inception_v3)due to mismatch in shape for weight batch_normalization_35/moving_variance. Weight expects shape (128,). Received saved weight with shape (192,)\n",
            "  _set_weights(\n",
            "/usr/local/lib/python3.11/dist-packages/keras/src/legacy/saving/legacy_h5_format.py:513: UserWarning: Skipping loading weights for layer #1 (named inception_v3)due to mismatch in shape for weight conv2d_31/kernel. Weight expects shape (1, 1, 768, 128). Received saved weight with shape (1, 7, 192, 192)\n",
            "  _set_weights(\n",
            "/usr/local/lib/python3.11/dist-packages/keras/src/legacy/saving/legacy_h5_format.py:513: UserWarning: Skipping loading weights for layer #1 (named inception_v3)due to mismatch in shape for weight conv2d_36/kernel. Weight expects shape (1, 7, 128, 128). Received saved weight with shape (7, 1, 192, 192)\n",
            "  _set_weights(\n",
            "/usr/local/lib/python3.11/dist-packages/keras/src/legacy/saving/legacy_h5_format.py:513: UserWarning: Skipping loading weights for layer #1 (named inception_v3)due to mismatch in shape for weight batch_normalization_31/beta. Weight expects shape (128,). Received saved weight with shape (192,)\n",
            "  _set_weights(\n",
            "/usr/local/lib/python3.11/dist-packages/keras/src/legacy/saving/legacy_h5_format.py:513: UserWarning: Skipping loading weights for layer #1 (named inception_v3)due to mismatch in shape for weight batch_normalization_31/moving_mean. Weight expects shape (128,). Received saved weight with shape (192,)\n",
            "  _set_weights(\n",
            "/usr/local/lib/python3.11/dist-packages/keras/src/legacy/saving/legacy_h5_format.py:513: UserWarning: Skipping loading weights for layer #1 (named inception_v3)due to mismatch in shape for weight batch_normalization_31/moving_variance. Weight expects shape (128,). Received saved weight with shape (1, 1, 768, 192)\n",
            "  _set_weights(\n",
            "/usr/local/lib/python3.11/dist-packages/keras/src/legacy/saving/legacy_h5_format.py:513: UserWarning: Skipping loading weights for layer #1 (named inception_v3)due to mismatch in shape for weight batch_normalization_36/beta. Weight expects shape (128,). Received saved weight with shape (7, 1, 192, 192)\n",
            "  _set_weights(\n",
            "/usr/local/lib/python3.11/dist-packages/keras/src/legacy/saving/legacy_h5_format.py:513: UserWarning: Skipping loading weights for layer #1 (named inception_v3)due to mismatch in shape for weight batch_normalization_36/moving_mean. Weight expects shape (128,). Received saved weight with shape (1, 7, 192, 192)\n",
            "  _set_weights(\n",
            "/usr/local/lib/python3.11/dist-packages/keras/src/legacy/saving/legacy_h5_format.py:513: UserWarning: Skipping loading weights for layer #1 (named inception_v3)due to mismatch in shape for weight batch_normalization_36/moving_variance. Weight expects shape (128,). Received saved weight with shape (1, 1, 768, 192)\n",
            "  _set_weights(\n",
            "/usr/local/lib/python3.11/dist-packages/keras/src/legacy/saving/legacy_h5_format.py:513: UserWarning: Skipping loading weights for layer #1 (named inception_v3)due to mismatch in shape for weight conv2d_32/kernel. Weight expects shape (1, 7, 128, 128). Received saved weight with shape (192,)\n",
            "  _set_weights(\n",
            "/usr/local/lib/python3.11/dist-packages/keras/src/legacy/saving/legacy_h5_format.py:513: UserWarning: Skipping loading weights for layer #1 (named inception_v3)due to mismatch in shape for weight conv2d_37/kernel. Weight expects shape (7, 1, 128, 128). Received saved weight with shape (192,)\n",
            "  _set_weights(\n",
            "/usr/local/lib/python3.11/dist-packages/keras/src/legacy/saving/legacy_h5_format.py:513: UserWarning: Skipping loading weights for layer #1 (named inception_v3)due to mismatch in shape for weight batch_normalization_32/beta. Weight expects shape (128,). Received saved weight with shape (192,)\n",
            "  _set_weights(\n",
            "/usr/local/lib/python3.11/dist-packages/keras/src/legacy/saving/legacy_h5_format.py:513: UserWarning: Skipping loading weights for layer #1 (named inception_v3)due to mismatch in shape for weight batch_normalization_32/moving_mean. Weight expects shape (128,). Received saved weight with shape (192,)\n",
            "  _set_weights(\n",
            "/usr/local/lib/python3.11/dist-packages/keras/src/legacy/saving/legacy_h5_format.py:513: UserWarning: Skipping loading weights for layer #1 (named inception_v3)due to mismatch in shape for weight batch_normalization_32/moving_variance. Weight expects shape (128,). Received saved weight with shape (1, 1, 768, 192)\n",
            "  _set_weights(\n",
            "/usr/local/lib/python3.11/dist-packages/keras/src/legacy/saving/legacy_h5_format.py:513: UserWarning: Skipping loading weights for layer #1 (named inception_v3)due to mismatch in shape for weight batch_normalization_37/beta. Weight expects shape (128,). Received saved weight with shape (192,)\n",
            "  _set_weights(\n",
            "/usr/local/lib/python3.11/dist-packages/keras/src/legacy/saving/legacy_h5_format.py:513: UserWarning: Skipping loading weights for layer #1 (named inception_v3)due to mismatch in shape for weight batch_normalization_37/moving_mean. Weight expects shape (128,). Received saved weight with shape (1, 7, 192, 192)\n",
            "  _set_weights(\n",
            "/usr/local/lib/python3.11/dist-packages/keras/src/legacy/saving/legacy_h5_format.py:513: UserWarning: Skipping loading weights for layer #1 (named inception_v3)due to mismatch in shape for weight batch_normalization_37/moving_variance. Weight expects shape (128,). Received saved weight with shape (192,)\n",
            "  _set_weights(\n",
            "/usr/local/lib/python3.11/dist-packages/keras/src/legacy/saving/legacy_h5_format.py:513: UserWarning: Skipping loading weights for layer #1 (named inception_v3)due to mismatch in shape for weight conv2d_33/kernel. Weight expects shape (7, 1, 128, 192). Received saved weight with shape (7, 1, 192, 192)\n",
            "  _set_weights(\n",
            "/usr/local/lib/python3.11/dist-packages/keras/src/legacy/saving/legacy_h5_format.py:513: UserWarning: Skipping loading weights for layer #1 (named inception_v3)due to mismatch in shape for weight conv2d_38/kernel. Weight expects shape (1, 7, 128, 192). Received saved weight with shape (192,)\n",
            "  _set_weights(\n",
            "/usr/local/lib/python3.11/dist-packages/keras/src/legacy/saving/legacy_h5_format.py:513: UserWarning: Skipping loading weights for layer #1 (named inception_v3)due to mismatch in shape for weight conv2d_39/kernel. Weight expects shape (1, 1, 768, 192). Received saved weight with shape (192,)\n",
            "  _set_weights(\n",
            "/usr/local/lib/python3.11/dist-packages/keras/src/legacy/saving/legacy_h5_format.py:513: UserWarning: Skipping loading weights for layer #1 (named inception_v3)due to mismatch in shape for weight batch_normalization_30/beta. Weight expects shape (192,). Received saved weight with shape (3, 3, 192, 320)\n",
            "  _set_weights(\n",
            "/usr/local/lib/python3.11/dist-packages/keras/src/legacy/saving/legacy_h5_format.py:513: UserWarning: Skipping loading weights for layer #1 (named inception_v3)due to mismatch in shape for weight batch_normalization_30/moving_mean. Weight expects shape (192,). Received saved weight with shape (3, 3, 192, 192)\n",
            "  _set_weights(\n",
            "/usr/local/lib/python3.11/dist-packages/keras/src/legacy/saving/legacy_h5_format.py:513: UserWarning: Skipping loading weights for layer #1 (named inception_v3)due to mismatch in shape for weight batch_normalization_30/moving_variance. Weight expects shape (192,). Received saved weight with shape (320,)\n",
            "  _set_weights(\n",
            "/usr/local/lib/python3.11/dist-packages/keras/src/legacy/saving/legacy_h5_format.py:513: UserWarning: Skipping loading weights for layer #1 (named inception_v3)due to mismatch in shape for weight batch_normalization_33/moving_mean. Weight expects shape (192,). Received saved weight with shape (1, 1, 1280, 448)\n",
            "  _set_weights(\n",
            "/usr/local/lib/python3.11/dist-packages/keras/src/legacy/saving/legacy_h5_format.py:513: UserWarning: Skipping loading weights for layer #1 (named inception_v3)due to mismatch in shape for weight batch_normalization_33/moving_variance. Weight expects shape (192,). Received saved weight with shape (448,)\n",
            "  _set_weights(\n",
            "/usr/local/lib/python3.11/dist-packages/keras/src/legacy/saving/legacy_h5_format.py:513: UserWarning: Skipping loading weights for layer #1 (named inception_v3)due to mismatch in shape for weight batch_normalization_38/beta. Weight expects shape (192,). Received saved weight with shape (1, 1, 1280, 384)\n",
            "  _set_weights(\n",
            "/usr/local/lib/python3.11/dist-packages/keras/src/legacy/saving/legacy_h5_format.py:513: UserWarning: Skipping loading weights for layer #1 (named inception_v3)due to mismatch in shape for weight batch_normalization_38/moving_mean. Weight expects shape (192,). Received saved weight with shape (3, 3, 448, 384)\n",
            "  _set_weights(\n",
            "/usr/local/lib/python3.11/dist-packages/keras/src/legacy/saving/legacy_h5_format.py:513: UserWarning: Skipping loading weights for layer #1 (named inception_v3)due to mismatch in shape for weight batch_normalization_38/moving_variance. Weight expects shape (192,). Received saved weight with shape (384,)\n",
            "  _set_weights(\n",
            "/usr/local/lib/python3.11/dist-packages/keras/src/legacy/saving/legacy_h5_format.py:513: UserWarning: Skipping loading weights for layer #1 (named inception_v3)due to mismatch in shape for weight batch_normalization_39/beta. Weight expects shape (192,). Received saved weight with shape (384,)\n",
            "  _set_weights(\n",
            "/usr/local/lib/python3.11/dist-packages/keras/src/legacy/saving/legacy_h5_format.py:513: UserWarning: Skipping loading weights for layer #1 (named inception_v3)due to mismatch in shape for weight batch_normalization_39/moving_mean. Weight expects shape (192,). Received saved weight with shape (1, 3, 384, 384)\n",
            "  _set_weights(\n",
            "/usr/local/lib/python3.11/dist-packages/keras/src/legacy/saving/legacy_h5_format.py:513: UserWarning: Skipping loading weights for layer #1 (named inception_v3)due to mismatch in shape for weight batch_normalization_39/moving_variance. Weight expects shape (192,). Received saved weight with shape (3, 1, 384, 384)\n",
            "  _set_weights(\n",
            "/usr/local/lib/python3.11/dist-packages/keras/src/legacy/saving/legacy_h5_format.py:513: UserWarning: Skipping loading weights for layer #1 (named inception_v3)due to mismatch in shape for weight conv2d_44/kernel. Weight expects shape (1, 1, 768, 160). Received saved weight with shape (1, 3, 384, 384)\n",
            "  _set_weights(\n",
            "/usr/local/lib/python3.11/dist-packages/keras/src/legacy/saving/legacy_h5_format.py:513: UserWarning: Skipping loading weights for layer #1 (named inception_v3)due to mismatch in shape for weight batch_normalization_44/beta. Weight expects shape (160,). Received saved weight with shape (3, 1, 384, 384)\n",
            "  _set_weights(\n",
            "/usr/local/lib/python3.11/dist-packages/keras/src/legacy/saving/legacy_h5_format.py:513: UserWarning: Skipping loading weights for layer #1 (named inception_v3)due to mismatch in shape for weight batch_normalization_44/moving_mean. Weight expects shape (160,). Received saved weight with shape (1, 1, 1280, 320)\n",
            "  _set_weights(\n",
            "/usr/local/lib/python3.11/dist-packages/keras/src/legacy/saving/legacy_h5_format.py:513: UserWarning: Skipping loading weights for layer #1 (named inception_v3)due to mismatch in shape for weight batch_normalization_44/moving_variance. Weight expects shape (160,). Received saved weight with shape (384,)\n",
            "  _set_weights(\n",
            "/usr/local/lib/python3.11/dist-packages/keras/src/legacy/saving/legacy_h5_format.py:513: UserWarning: Skipping loading weights for layer #1 (named inception_v3)due to mismatch in shape for weight conv2d_45/kernel. Weight expects shape (7, 1, 160, 160). Received saved weight with shape (384,)\n",
            "  _set_weights(\n",
            "/usr/local/lib/python3.11/dist-packages/keras/src/legacy/saving/legacy_h5_format.py:513: UserWarning: Skipping loading weights for layer #1 (named inception_v3)due to mismatch in shape for weight batch_normalization_45/beta. Weight expects shape (160,). Received saved weight with shape (384,)\n",
            "  _set_weights(\n",
            "/usr/local/lib/python3.11/dist-packages/keras/src/legacy/saving/legacy_h5_format.py:513: UserWarning: Skipping loading weights for layer #1 (named inception_v3)due to mismatch in shape for weight batch_normalization_45/moving_mean. Weight expects shape (160,). Received saved weight with shape (384,)\n",
            "  _set_weights(\n",
            "/usr/local/lib/python3.11/dist-packages/keras/src/legacy/saving/legacy_h5_format.py:513: UserWarning: Skipping loading weights for layer #1 (named inception_v3)due to mismatch in shape for weight batch_normalization_45/moving_variance. Weight expects shape (160,). Received saved weight with shape (1, 1, 1280, 192)\n",
            "  _set_weights(\n",
            "/usr/local/lib/python3.11/dist-packages/keras/src/legacy/saving/legacy_h5_format.py:513: UserWarning: Skipping loading weights for layer #1 (named inception_v3)due to mismatch in shape for weight conv2d_41/kernel. Weight expects shape (1, 1, 768, 160). Received saved weight with shape (320,)\n",
            "  _set_weights(\n",
            "/usr/local/lib/python3.11/dist-packages/keras/src/legacy/saving/legacy_h5_format.py:513: UserWarning: Skipping loading weights for layer #1 (named inception_v3)due to mismatch in shape for weight conv2d_46/kernel. Weight expects shape (1, 7, 160, 160). Received saved weight with shape (192,)\n",
            "  _set_weights(\n",
            "/usr/local/lib/python3.11/dist-packages/keras/src/legacy/saving/legacy_h5_format.py:513: UserWarning: Skipping loading weights for layer #1 (named inception_v3)due to mismatch in shape for weight batch_normalization_41/beta. Weight expects shape (160,). Received saved weight with shape (1, 1, 2048, 448)\n",
            "  _set_weights(\n",
            "/usr/local/lib/python3.11/dist-packages/keras/src/legacy/saving/legacy_h5_format.py:513: UserWarning: Skipping loading weights for layer #1 (named inception_v3)due to mismatch in shape for weight batch_normalization_41/moving_mean. Weight expects shape (160,). Received saved weight with shape (448,)\n",
            "  _set_weights(\n",
            "/usr/local/lib/python3.11/dist-packages/keras/src/legacy/saving/legacy_h5_format.py:513: UserWarning: Skipping loading weights for layer #1 (named inception_v3)due to mismatch in shape for weight batch_normalization_41/moving_variance. Weight expects shape (160,). Received saved weight with shape (1, 1, 2048, 384)\n",
            "  _set_weights(\n",
            "/usr/local/lib/python3.11/dist-packages/keras/src/legacy/saving/legacy_h5_format.py:513: UserWarning: Skipping loading weights for layer #1 (named inception_v3)due to mismatch in shape for weight batch_normalization_46/beta. Weight expects shape (160,). Received saved weight with shape (3, 3, 448, 384)\n",
            "  _set_weights(\n",
            "/usr/local/lib/python3.11/dist-packages/keras/src/legacy/saving/legacy_h5_format.py:513: UserWarning: Skipping loading weights for layer #1 (named inception_v3)due to mismatch in shape for weight batch_normalization_46/moving_mean. Weight expects shape (160,). Received saved weight with shape (384,)\n",
            "  _set_weights(\n",
            "/usr/local/lib/python3.11/dist-packages/keras/src/legacy/saving/legacy_h5_format.py:513: UserWarning: Skipping loading weights for layer #1 (named inception_v3)due to mismatch in shape for weight batch_normalization_46/moving_variance. Weight expects shape (160,). Received saved weight with shape (384,)\n",
            "  _set_weights(\n",
            "/usr/local/lib/python3.11/dist-packages/keras/src/legacy/saving/legacy_h5_format.py:513: UserWarning: Skipping loading weights for layer #1 (named inception_v3)due to mismatch in shape for weight conv2d_42/kernel. Weight expects shape (1, 7, 160, 160). Received saved weight with shape (1, 3, 384, 384)\n",
            "  _set_weights(\n",
            "/usr/local/lib/python3.11/dist-packages/keras/src/legacy/saving/legacy_h5_format.py:513: UserWarning: Skipping loading weights for layer #1 (named inception_v3)due to mismatch in shape for weight conv2d_47/kernel. Weight expects shape (7, 1, 160, 160). Received saved weight with shape (3, 1, 384, 384)\n",
            "  _set_weights(\n",
            "/usr/local/lib/python3.11/dist-packages/keras/src/legacy/saving/legacy_h5_format.py:513: UserWarning: Skipping loading weights for layer #1 (named inception_v3)due to mismatch in shape for weight batch_normalization_42/beta. Weight expects shape (160,). Received saved weight with shape (1, 3, 384, 384)\n",
            "  _set_weights(\n",
            "/usr/local/lib/python3.11/dist-packages/keras/src/legacy/saving/legacy_h5_format.py:513: UserWarning: Skipping loading weights for layer #1 (named inception_v3)due to mismatch in shape for weight batch_normalization_42/moving_mean. Weight expects shape (160,). Received saved weight with shape (3, 1, 384, 384)\n",
            "  _set_weights(\n",
            "/usr/local/lib/python3.11/dist-packages/keras/src/legacy/saving/legacy_h5_format.py:513: UserWarning: Skipping loading weights for layer #1 (named inception_v3)due to mismatch in shape for weight batch_normalization_42/moving_variance. Weight expects shape (160,). Received saved weight with shape (1, 1, 2048, 320)\n",
            "  _set_weights(\n",
            "/usr/local/lib/python3.11/dist-packages/keras/src/legacy/saving/legacy_h5_format.py:513: UserWarning: Skipping loading weights for layer #1 (named inception_v3)due to mismatch in shape for weight batch_normalization_47/beta. Weight expects shape (160,). Received saved weight with shape (384,)\n",
            "  _set_weights(\n",
            "/usr/local/lib/python3.11/dist-packages/keras/src/legacy/saving/legacy_h5_format.py:513: UserWarning: Skipping loading weights for layer #1 (named inception_v3)due to mismatch in shape for weight batch_normalization_47/moving_mean. Weight expects shape (160,). Received saved weight with shape (384,)\n",
            "  _set_weights(\n",
            "/usr/local/lib/python3.11/dist-packages/keras/src/legacy/saving/legacy_h5_format.py:513: UserWarning: Skipping loading weights for layer #1 (named inception_v3)due to mismatch in shape for weight batch_normalization_47/moving_variance. Weight expects shape (160,). Received saved weight with shape (384,)\n",
            "  _set_weights(\n",
            "/usr/local/lib/python3.11/dist-packages/keras/src/legacy/saving/legacy_h5_format.py:513: UserWarning: Skipping loading weights for layer #1 (named inception_v3)due to mismatch in shape for weight conv2d_40/kernel. Weight expects shape (1, 1, 768, 192). Received saved weight with shape (384,)\n",
            "  _set_weights(\n",
            "/usr/local/lib/python3.11/dist-packages/keras/src/legacy/saving/legacy_h5_format.py:513: UserWarning: Skipping loading weights for layer #1 (named inception_v3)due to mismatch in shape for weight conv2d_43/kernel. Weight expects shape (7, 1, 160, 192). Received saved weight with shape (1, 1, 2048, 192)\n",
            "  _set_weights(\n",
            "/usr/local/lib/python3.11/dist-packages/keras/src/legacy/saving/legacy_h5_format.py:513: UserWarning: Skipping loading weights for layer #1 (named inception_v3)due to mismatch in shape for weight conv2d_48/kernel. Weight expects shape (1, 7, 160, 192). Received saved weight with shape (320,)\n",
            "  _set_weights(\n",
            "/usr/local/lib/python3.11/dist-packages/keras/src/legacy/saving/legacy_h5_format.py:513: UserWarning: Skipping loading weights for layer #1 (named inception_v3)due to mismatch in shape for weight conv2d_49/kernel. Weight expects shape (1, 1, 768, 192). Received saved weight with shape (192,)\n",
            "  _set_weights(\n",
            "/usr/local/lib/python3.11/dist-packages/keras/src/legacy/saving/legacy_h5_format.py:513: UserWarning: Skipping loading weights for layer #1 (named inception_v3)due to mismatch in shape for weight batch_normalization_40/beta. Weight expects shape (192,). Received saved weight with shape (32,)\n",
            "  _set_weights(\n",
            "/usr/local/lib/python3.11/dist-packages/keras/src/legacy/saving/legacy_h5_format.py:513: UserWarning: Skipping loading weights for layer #1 (named inception_v3)due to mismatch in shape for weight batch_normalization_40/moving_mean. Weight expects shape (192,). Received saved weight with shape (32,)\n",
            "  _set_weights(\n",
            "/usr/local/lib/python3.11/dist-packages/keras/src/legacy/saving/legacy_h5_format.py:513: UserWarning: Skipping loading weights for layer #1 (named inception_v3)due to mismatch in shape for weight batch_normalization_40/moving_variance. Weight expects shape (192,). Received saved weight with shape (32,)\n",
            "  _set_weights(\n",
            "/usr/local/lib/python3.11/dist-packages/keras/src/legacy/saving/legacy_h5_format.py:513: UserWarning: Skipping loading weights for layer #1 (named inception_v3)due to mismatch in shape for weight batch_normalization_43/beta. Weight expects shape (192,). Received saved weight with shape (32,)\n",
            "  _set_weights(\n",
            "/usr/local/lib/python3.11/dist-packages/keras/src/legacy/saving/legacy_h5_format.py:513: UserWarning: Skipping loading weights for layer #1 (named inception_v3)due to mismatch in shape for weight batch_normalization_43/moving_mean. Weight expects shape (192,). Received saved weight with shape (64,)\n",
            "  _set_weights(\n",
            "/usr/local/lib/python3.11/dist-packages/keras/src/legacy/saving/legacy_h5_format.py:513: UserWarning: Skipping loading weights for layer #1 (named inception_v3)due to mismatch in shape for weight batch_normalization_43/moving_variance. Weight expects shape (192,). Received saved weight with shape (64,)\n",
            "  _set_weights(\n",
            "/usr/local/lib/python3.11/dist-packages/keras/src/legacy/saving/legacy_h5_format.py:513: UserWarning: Skipping loading weights for layer #1 (named inception_v3)due to mismatch in shape for weight batch_normalization_48/beta. Weight expects shape (192,). Received saved weight with shape (80,)\n",
            "  _set_weights(\n",
            "/usr/local/lib/python3.11/dist-packages/keras/src/legacy/saving/legacy_h5_format.py:513: UserWarning: Skipping loading weights for layer #1 (named inception_v3)due to mismatch in shape for weight batch_normalization_48/moving_mean. Weight expects shape (192,). Received saved weight with shape (80,)\n",
            "  _set_weights(\n",
            "/usr/local/lib/python3.11/dist-packages/keras/src/legacy/saving/legacy_h5_format.py:513: UserWarning: Skipping loading weights for layer #1 (named inception_v3)due to mismatch in shape for weight batch_normalization_49/moving_mean. Weight expects shape (192,). Received saved weight with shape (64,)\n",
            "  _set_weights(\n",
            "/usr/local/lib/python3.11/dist-packages/keras/src/legacy/saving/legacy_h5_format.py:513: UserWarning: Skipping loading weights for layer #1 (named inception_v3)due to mismatch in shape for weight batch_normalization_49/moving_variance. Weight expects shape (192,). Received saved weight with shape (64,)\n",
            "  _set_weights(\n",
            "/usr/local/lib/python3.11/dist-packages/keras/src/legacy/saving/legacy_h5_format.py:513: UserWarning: Skipping loading weights for layer #1 (named inception_v3)due to mismatch in shape for weight conv2d_54/kernel. Weight expects shape (1, 1, 768, 160). Received saved weight with shape (48,)\n",
            "  _set_weights(\n",
            "/usr/local/lib/python3.11/dist-packages/keras/src/legacy/saving/legacy_h5_format.py:513: UserWarning: Skipping loading weights for layer #1 (named inception_v3)due to mismatch in shape for weight batch_normalization_54/beta. Weight expects shape (160,). Received saved weight with shape (48,)\n",
            "  _set_weights(\n",
            "/usr/local/lib/python3.11/dist-packages/keras/src/legacy/saving/legacy_h5_format.py:513: UserWarning: Skipping loading weights for layer #1 (named inception_v3)due to mismatch in shape for weight batch_normalization_54/moving_mean. Weight expects shape (160,). Received saved weight with shape (96,)\n",
            "  _set_weights(\n",
            "/usr/local/lib/python3.11/dist-packages/keras/src/legacy/saving/legacy_h5_format.py:513: UserWarning: Skipping loading weights for layer #1 (named inception_v3)due to mismatch in shape for weight batch_normalization_54/moving_variance. Weight expects shape (160,). Received saved weight with shape (96,)\n",
            "  _set_weights(\n",
            "/usr/local/lib/python3.11/dist-packages/keras/src/legacy/saving/legacy_h5_format.py:513: UserWarning: Skipping loading weights for layer #1 (named inception_v3)due to mismatch in shape for weight conv2d_55/kernel. Weight expects shape (7, 1, 160, 160). Received saved weight with shape (64,)\n",
            "  _set_weights(\n",
            "/usr/local/lib/python3.11/dist-packages/keras/src/legacy/saving/legacy_h5_format.py:513: UserWarning: Skipping loading weights for layer #1 (named inception_v3)due to mismatch in shape for weight batch_normalization_55/beta. Weight expects shape (160,). Received saved weight with shape (64,)\n",
            "  _set_weights(\n",
            "/usr/local/lib/python3.11/dist-packages/keras/src/legacy/saving/legacy_h5_format.py:513: UserWarning: Skipping loading weights for layer #1 (named inception_v3)due to mismatch in shape for weight batch_normalization_55/moving_mean. Weight expects shape (160,). Received saved weight with shape (64,)\n",
            "  _set_weights(\n",
            "/usr/local/lib/python3.11/dist-packages/keras/src/legacy/saving/legacy_h5_format.py:513: UserWarning: Skipping loading weights for layer #1 (named inception_v3)due to mismatch in shape for weight batch_normalization_55/moving_variance. Weight expects shape (160,). Received saved weight with shape (64,)\n",
            "  _set_weights(\n",
            "/usr/local/lib/python3.11/dist-packages/keras/src/legacy/saving/legacy_h5_format.py:513: UserWarning: Skipping loading weights for layer #1 (named inception_v3)due to mismatch in shape for weight conv2d_51/kernel. Weight expects shape (1, 1, 768, 160). Received saved weight with shape (96,)\n",
            "  _set_weights(\n",
            "/usr/local/lib/python3.11/dist-packages/keras/src/legacy/saving/legacy_h5_format.py:513: UserWarning: Skipping loading weights for layer #1 (named inception_v3)due to mismatch in shape for weight conv2d_56/kernel. Weight expects shape (1, 7, 160, 160). Received saved weight with shape (96,)\n",
            "  _set_weights(\n",
            "/usr/local/lib/python3.11/dist-packages/keras/src/legacy/saving/legacy_h5_format.py:513: UserWarning: Skipping loading weights for layer #1 (named inception_v3)due to mismatch in shape for weight batch_normalization_51/beta. Weight expects shape (160,). Received saved weight with shape (32,)\n",
            "  _set_weights(\n",
            "/usr/local/lib/python3.11/dist-packages/keras/src/legacy/saving/legacy_h5_format.py:513: UserWarning: Skipping loading weights for layer #1 (named inception_v3)due to mismatch in shape for weight batch_normalization_51/moving_mean. Weight expects shape (160,). Received saved weight with shape (32,)\n",
            "  _set_weights(\n",
            "/usr/local/lib/python3.11/dist-packages/keras/src/legacy/saving/legacy_h5_format.py:513: UserWarning: Skipping loading weights for layer #1 (named inception_v3)due to mismatch in shape for weight batch_normalization_51/moving_variance. Weight expects shape (160,). Received saved weight with shape (64,)\n",
            "  _set_weights(\n",
            "/usr/local/lib/python3.11/dist-packages/keras/src/legacy/saving/legacy_h5_format.py:513: UserWarning: Skipping loading weights for layer #1 (named inception_v3)due to mismatch in shape for weight batch_normalization_56/beta. Weight expects shape (160,). Received saved weight with shape (64,)\n",
            "  _set_weights(\n",
            "/usr/local/lib/python3.11/dist-packages/keras/src/legacy/saving/legacy_h5_format.py:513: UserWarning: Skipping loading weights for layer #1 (named inception_v3)due to mismatch in shape for weight batch_normalization_56/moving_mean. Weight expects shape (160,). Received saved weight with shape (48,)\n",
            "  _set_weights(\n",
            "/usr/local/lib/python3.11/dist-packages/keras/src/legacy/saving/legacy_h5_format.py:513: UserWarning: Skipping loading weights for layer #1 (named inception_v3)due to mismatch in shape for weight batch_normalization_56/moving_variance. Weight expects shape (160,). Received saved weight with shape (48,)\n",
            "  _set_weights(\n",
            "/usr/local/lib/python3.11/dist-packages/keras/src/legacy/saving/legacy_h5_format.py:513: UserWarning: Skipping loading weights for layer #1 (named inception_v3)due to mismatch in shape for weight conv2d_52/kernel. Weight expects shape (1, 7, 160, 160). Received saved weight with shape (96,)\n",
            "  _set_weights(\n",
            "/usr/local/lib/python3.11/dist-packages/keras/src/legacy/saving/legacy_h5_format.py:513: UserWarning: Skipping loading weights for layer #1 (named inception_v3)due to mismatch in shape for weight conv2d_57/kernel. Weight expects shape (7, 1, 160, 160). Received saved weight with shape (96,)\n",
            "  _set_weights(\n",
            "/usr/local/lib/python3.11/dist-packages/keras/src/legacy/saving/legacy_h5_format.py:513: UserWarning: Skipping loading weights for layer #1 (named inception_v3)due to mismatch in shape for weight batch_normalization_52/beta. Weight expects shape (160,). Received saved weight with shape (64,)\n",
            "  _set_weights(\n",
            "/usr/local/lib/python3.11/dist-packages/keras/src/legacy/saving/legacy_h5_format.py:513: UserWarning: Skipping loading weights for layer #1 (named inception_v3)due to mismatch in shape for weight batch_normalization_52/moving_mean. Weight expects shape (160,). Received saved weight with shape (64,)\n",
            "  _set_weights(\n",
            "/usr/local/lib/python3.11/dist-packages/keras/src/legacy/saving/legacy_h5_format.py:513: UserWarning: Skipping loading weights for layer #1 (named inception_v3)due to mismatch in shape for weight batch_normalization_52/moving_variance. Weight expects shape (160,). Received saved weight with shape (64,)\n",
            "  _set_weights(\n",
            "/usr/local/lib/python3.11/dist-packages/keras/src/legacy/saving/legacy_h5_format.py:513: UserWarning: Skipping loading weights for layer #1 (named inception_v3)due to mismatch in shape for weight batch_normalization_57/beta. Weight expects shape (160,). Received saved weight with shape (64,)\n",
            "  _set_weights(\n",
            "/usr/local/lib/python3.11/dist-packages/keras/src/legacy/saving/legacy_h5_format.py:513: UserWarning: Skipping loading weights for layer #1 (named inception_v3)due to mismatch in shape for weight batch_normalization_57/moving_mean. Weight expects shape (160,). Received saved weight with shape (96,)\n",
            "  _set_weights(\n",
            "/usr/local/lib/python3.11/dist-packages/keras/src/legacy/saving/legacy_h5_format.py:513: UserWarning: Skipping loading weights for layer #1 (named inception_v3)due to mismatch in shape for weight batch_normalization_57/moving_variance. Weight expects shape (160,). Received saved weight with shape (96,)\n",
            "  _set_weights(\n",
            "/usr/local/lib/python3.11/dist-packages/keras/src/legacy/saving/legacy_h5_format.py:513: UserWarning: Skipping loading weights for layer #1 (named inception_v3)due to mismatch in shape for weight conv2d_50/kernel. Weight expects shape (1, 1, 768, 192). Received saved weight with shape (64,)\n",
            "  _set_weights(\n",
            "/usr/local/lib/python3.11/dist-packages/keras/src/legacy/saving/legacy_h5_format.py:513: UserWarning: Skipping loading weights for layer #1 (named inception_v3)due to mismatch in shape for weight conv2d_53/kernel. Weight expects shape (7, 1, 160, 192). Received saved weight with shape (64,)\n",
            "  _set_weights(\n",
            "/usr/local/lib/python3.11/dist-packages/keras/src/legacy/saving/legacy_h5_format.py:513: UserWarning: Skipping loading weights for layer #1 (named inception_v3)due to mismatch in shape for weight conv2d_58/kernel. Weight expects shape (1, 7, 160, 192). Received saved weight with shape (64,)\n",
            "  _set_weights(\n",
            "/usr/local/lib/python3.11/dist-packages/keras/src/legacy/saving/legacy_h5_format.py:513: UserWarning: Skipping loading weights for layer #1 (named inception_v3)due to mismatch in shape for weight conv2d_59/kernel. Weight expects shape (1, 1, 768, 192). Received saved weight with shape (64,)\n",
            "  _set_weights(\n",
            "/usr/local/lib/python3.11/dist-packages/keras/src/legacy/saving/legacy_h5_format.py:513: UserWarning: Skipping loading weights for layer #1 (named inception_v3)due to mismatch in shape for weight batch_normalization_50/beta. Weight expects shape (192,). Received saved weight with shape (48,)\n",
            "  _set_weights(\n",
            "/usr/local/lib/python3.11/dist-packages/keras/src/legacy/saving/legacy_h5_format.py:513: UserWarning: Skipping loading weights for layer #1 (named inception_v3)due to mismatch in shape for weight batch_normalization_50/moving_mean. Weight expects shape (192,). Received saved weight with shape (48,)\n",
            "  _set_weights(\n",
            "/usr/local/lib/python3.11/dist-packages/keras/src/legacy/saving/legacy_h5_format.py:513: UserWarning: Skipping loading weights for layer #1 (named inception_v3)due to mismatch in shape for weight batch_normalization_50/moving_variance. Weight expects shape (192,). Received saved weight with shape (96,)\n",
            "  _set_weights(\n",
            "/usr/local/lib/python3.11/dist-packages/keras/src/legacy/saving/legacy_h5_format.py:513: UserWarning: Skipping loading weights for layer #1 (named inception_v3)due to mismatch in shape for weight batch_normalization_53/beta. Weight expects shape (192,). Received saved weight with shape (96,)\n",
            "  _set_weights(\n",
            "/usr/local/lib/python3.11/dist-packages/keras/src/legacy/saving/legacy_h5_format.py:513: UserWarning: Skipping loading weights for layer #1 (named inception_v3)due to mismatch in shape for weight batch_normalization_53/moving_mean. Weight expects shape (192,). Received saved weight with shape (64,)\n",
            "  _set_weights(\n",
            "/usr/local/lib/python3.11/dist-packages/keras/src/legacy/saving/legacy_h5_format.py:513: UserWarning: Skipping loading weights for layer #1 (named inception_v3)due to mismatch in shape for weight batch_normalization_53/moving_variance. Weight expects shape (192,). Received saved weight with shape (64,)\n",
            "  _set_weights(\n",
            "/usr/local/lib/python3.11/dist-packages/keras/src/legacy/saving/legacy_h5_format.py:513: UserWarning: Skipping loading weights for layer #1 (named inception_v3)due to mismatch in shape for weight batch_normalization_58/beta. Weight expects shape (192,). Received saved weight with shape (64,)\n",
            "  _set_weights(\n",
            "/usr/local/lib/python3.11/dist-packages/keras/src/legacy/saving/legacy_h5_format.py:513: UserWarning: Skipping loading weights for layer #1 (named inception_v3)due to mismatch in shape for weight batch_normalization_58/moving_mean. Weight expects shape (192,). Received saved weight with shape (64,)\n",
            "  _set_weights(\n",
            "/usr/local/lib/python3.11/dist-packages/keras/src/legacy/saving/legacy_h5_format.py:513: UserWarning: Skipping loading weights for layer #1 (named inception_v3)due to mismatch in shape for weight batch_normalization_58/moving_variance. Weight expects shape (192,). Received saved weight with shape (96,)\n",
            "  _set_weights(\n",
            "/usr/local/lib/python3.11/dist-packages/keras/src/legacy/saving/legacy_h5_format.py:513: UserWarning: Skipping loading weights for layer #1 (named inception_v3)due to mismatch in shape for weight batch_normalization_59/beta. Weight expects shape (192,). Received saved weight with shape (96,)\n",
            "  _set_weights(\n",
            "/usr/local/lib/python3.11/dist-packages/keras/src/legacy/saving/legacy_h5_format.py:513: UserWarning: Skipping loading weights for layer #1 (named inception_v3)due to mismatch in shape for weight batch_normalization_59/moving_mean. Weight expects shape (192,). Received saved weight with shape (64,)\n",
            "  _set_weights(\n",
            "/usr/local/lib/python3.11/dist-packages/keras/src/legacy/saving/legacy_h5_format.py:513: UserWarning: Skipping loading weights for layer #1 (named inception_v3)due to mismatch in shape for weight batch_normalization_59/moving_variance. Weight expects shape (192,). Received saved weight with shape (64,)\n",
            "  _set_weights(\n",
            "/usr/local/lib/python3.11/dist-packages/keras/src/legacy/saving/legacy_h5_format.py:513: UserWarning: Skipping loading weights for layer #1 (named inception_v3)due to mismatch in shape for weight conv2d_64/kernel. Weight expects shape (1, 1, 768, 192). Received saved weight with shape (64,)\n",
            "  _set_weights(\n",
            "/usr/local/lib/python3.11/dist-packages/keras/src/legacy/saving/legacy_h5_format.py:513: UserWarning: Skipping loading weights for layer #1 (named inception_v3)due to mismatch in shape for weight batch_normalization_64/beta. Weight expects shape (192,). Received saved weight with shape (64,)\n",
            "  _set_weights(\n",
            "/usr/local/lib/python3.11/dist-packages/keras/src/legacy/saving/legacy_h5_format.py:513: UserWarning: Skipping loading weights for layer #1 (named inception_v3)due to mismatch in shape for weight batch_normalization_64/moving_mean. Weight expects shape (192,). Received saved weight with shape (96,)\n",
            "  _set_weights(\n",
            "/usr/local/lib/python3.11/dist-packages/keras/src/legacy/saving/legacy_h5_format.py:513: UserWarning: Skipping loading weights for layer #1 (named inception_v3)due to mismatch in shape for weight batch_normalization_64/moving_variance. Weight expects shape (192,). Received saved weight with shape (96,)\n",
            "  _set_weights(\n",
            "/usr/local/lib/python3.11/dist-packages/keras/src/legacy/saving/legacy_h5_format.py:513: UserWarning: Skipping loading weights for layer #1 (named inception_v3)due to mismatch in shape for weight conv2d_65/kernel. Weight expects shape (7, 1, 192, 192). Received saved weight with shape (384,)\n",
            "  _set_weights(\n",
            "/usr/local/lib/python3.11/dist-packages/keras/src/legacy/saving/legacy_h5_format.py:513: UserWarning: Skipping loading weights for layer #1 (named inception_v3)due to mismatch in shape for weight batch_normalization_65/beta. Weight expects shape (192,). Received saved weight with shape (384,)\n",
            "  _set_weights(\n",
            "/usr/local/lib/python3.11/dist-packages/keras/src/legacy/saving/legacy_h5_format.py:513: UserWarning: Skipping loading weights for layer #1 (named inception_v3)due to mismatch in shape for weight batch_normalization_65/moving_mean. Weight expects shape (192,). Received saved weight with shape (96,)\n",
            "  _set_weights(\n",
            "/usr/local/lib/python3.11/dist-packages/keras/src/legacy/saving/legacy_h5_format.py:513: UserWarning: Skipping loading weights for layer #1 (named inception_v3)due to mismatch in shape for weight batch_normalization_65/moving_variance. Weight expects shape (192,). Received saved weight with shape (96,)\n",
            "  _set_weights(\n",
            "/usr/local/lib/python3.11/dist-packages/keras/src/legacy/saving/legacy_h5_format.py:513: UserWarning: Skipping loading weights for layer #1 (named inception_v3)due to mismatch in shape for weight conv2d_61/kernel. Weight expects shape (1, 1, 768, 192). Received saved weight with shape (128,)\n",
            "  _set_weights(\n",
            "/usr/local/lib/python3.11/dist-packages/keras/src/legacy/saving/legacy_h5_format.py:513: UserWarning: Skipping loading weights for layer #1 (named inception_v3)due to mismatch in shape for weight conv2d_66/kernel. Weight expects shape (1, 7, 192, 192). Received saved weight with shape (128,)\n",
            "  _set_weights(\n",
            "/usr/local/lib/python3.11/dist-packages/keras/src/legacy/saving/legacy_h5_format.py:513: UserWarning: Skipping loading weights for layer #1 (named inception_v3)due to mismatch in shape for weight batch_normalization_61/beta. Weight expects shape (192,). Received saved weight with shape (128,)\n",
            "  _set_weights(\n",
            "/usr/local/lib/python3.11/dist-packages/keras/src/legacy/saving/legacy_h5_format.py:513: UserWarning: Skipping loading weights for layer #1 (named inception_v3)due to mismatch in shape for weight batch_normalization_61/moving_mean. Weight expects shape (192,). Received saved weight with shape (128,)\n",
            "  _set_weights(\n",
            "/usr/local/lib/python3.11/dist-packages/keras/src/legacy/saving/legacy_h5_format.py:513: UserWarning: Skipping loading weights for layer #1 (named inception_v3)due to mismatch in shape for weight batch_normalization_61/moving_variance. Weight expects shape (192,). Received saved weight with shape (128,)\n",
            "  _set_weights(\n",
            "/usr/local/lib/python3.11/dist-packages/keras/src/legacy/saving/legacy_h5_format.py:513: UserWarning: Skipping loading weights for layer #1 (named inception_v3)due to mismatch in shape for weight batch_normalization_66/beta. Weight expects shape (192,). Received saved weight with shape (128,)\n",
            "  _set_weights(\n",
            "/usr/local/lib/python3.11/dist-packages/keras/src/legacy/saving/legacy_h5_format.py:513: UserWarning: Skipping loading weights for layer #1 (named inception_v3)due to mismatch in shape for weight batch_normalization_66/moving_mean. Weight expects shape (192,). Received saved weight with shape (128,)\n",
            "  _set_weights(\n",
            "/usr/local/lib/python3.11/dist-packages/keras/src/legacy/saving/legacy_h5_format.py:513: UserWarning: Skipping loading weights for layer #1 (named inception_v3)due to mismatch in shape for weight batch_normalization_66/moving_variance. Weight expects shape (192,). Received saved weight with shape (128,)\n",
            "  _set_weights(\n",
            "/usr/local/lib/python3.11/dist-packages/keras/src/legacy/saving/legacy_h5_format.py:513: UserWarning: Skipping loading weights for layer #1 (named inception_v3)due to mismatch in shape for weight conv2d_62/kernel. Weight expects shape (1, 7, 192, 192). Received saved weight with shape (128,)\n",
            "  _set_weights(\n",
            "/usr/local/lib/python3.11/dist-packages/keras/src/legacy/saving/legacy_h5_format.py:513: UserWarning: Skipping loading weights for layer #1 (named inception_v3)due to mismatch in shape for weight conv2d_67/kernel. Weight expects shape (7, 1, 192, 192). Received saved weight with shape (128,)\n",
            "  _set_weights(\n",
            "/usr/local/lib/python3.11/dist-packages/keras/src/legacy/saving/legacy_h5_format.py:513: UserWarning: Skipping loading weights for layer #1 (named inception_v3)due to mismatch in shape for weight batch_normalization_62/beta. Weight expects shape (192,). Received saved weight with shape (128,)\n",
            "  _set_weights(\n",
            "/usr/local/lib/python3.11/dist-packages/keras/src/legacy/saving/legacy_h5_format.py:513: UserWarning: Skipping loading weights for layer #1 (named inception_v3)due to mismatch in shape for weight batch_normalization_62/moving_mean. Weight expects shape (192,). Received saved weight with shape (128,)\n",
            "  _set_weights(\n",
            "/usr/local/lib/python3.11/dist-packages/keras/src/legacy/saving/legacy_h5_format.py:513: UserWarning: Skipping loading weights for layer #1 (named inception_v3)due to mismatch in shape for weight conv2d_60/kernel. Weight expects shape (1, 1, 768, 192). Received saved weight with shape (192,)\n",
            "  _set_weights(\n",
            "/usr/local/lib/python3.11/dist-packages/keras/src/legacy/saving/legacy_h5_format.py:513: UserWarning: Skipping loading weights for layer #1 (named inception_v3)due to mismatch in shape for weight conv2d_63/kernel. Weight expects shape (7, 1, 192, 192). Received saved weight with shape (192,)\n",
            "  _set_weights(\n",
            "/usr/local/lib/python3.11/dist-packages/keras/src/legacy/saving/legacy_h5_format.py:513: UserWarning: Skipping loading weights for layer #1 (named inception_v3)due to mismatch in shape for weight conv2d_68/kernel. Weight expects shape (1, 7, 192, 192). Received saved weight with shape (192,)\n",
            "  _set_weights(\n",
            "/usr/local/lib/python3.11/dist-packages/keras/src/legacy/saving/legacy_h5_format.py:513: UserWarning: Skipping loading weights for layer #1 (named inception_v3)due to mismatch in shape for weight conv2d_69/kernel. Weight expects shape (1, 1, 768, 192). Received saved weight with shape (192,)\n",
            "  _set_weights(\n",
            "/usr/local/lib/python3.11/dist-packages/keras/src/legacy/saving/legacy_h5_format.py:513: UserWarning: Skipping loading weights for layer #1 (named inception_v3)due to mismatch in shape for weight batch_normalization_60/beta. Weight expects shape (192,). Received saved weight with shape (160,)\n",
            "  _set_weights(\n",
            "/usr/local/lib/python3.11/dist-packages/keras/src/legacy/saving/legacy_h5_format.py:513: UserWarning: Skipping loading weights for layer #1 (named inception_v3)due to mismatch in shape for weight batch_normalization_60/moving_mean. Weight expects shape (192,). Received saved weight with shape (160,)\n",
            "  _set_weights(\n",
            "/usr/local/lib/python3.11/dist-packages/keras/src/legacy/saving/legacy_h5_format.py:513: UserWarning: Skipping loading weights for layer #1 (named inception_v3)due to mismatch in shape for weight batch_normalization_60/moving_variance. Weight expects shape (192,). Received saved weight with shape (160,)\n",
            "  _set_weights(\n",
            "/usr/local/lib/python3.11/dist-packages/keras/src/legacy/saving/legacy_h5_format.py:513: UserWarning: Skipping loading weights for layer #1 (named inception_v3)due to mismatch in shape for weight batch_normalization_63/beta. Weight expects shape (192,). Received saved weight with shape (160,)\n",
            "  _set_weights(\n",
            "/usr/local/lib/python3.11/dist-packages/keras/src/legacy/saving/legacy_h5_format.py:513: UserWarning: Skipping loading weights for layer #1 (named inception_v3)due to mismatch in shape for weight batch_normalization_63/moving_mean. Weight expects shape (192,). Received saved weight with shape (160,)\n",
            "  _set_weights(\n",
            "/usr/local/lib/python3.11/dist-packages/keras/src/legacy/saving/legacy_h5_format.py:513: UserWarning: Skipping loading weights for layer #1 (named inception_v3)due to mismatch in shape for weight batch_normalization_63/moving_variance. Weight expects shape (192,). Received saved weight with shape (160,)\n",
            "  _set_weights(\n",
            "/usr/local/lib/python3.11/dist-packages/keras/src/legacy/saving/legacy_h5_format.py:513: UserWarning: Skipping loading weights for layer #1 (named inception_v3)due to mismatch in shape for weight batch_normalization_68/beta. Weight expects shape (192,). Received saved weight with shape (160,)\n",
            "  _set_weights(\n",
            "/usr/local/lib/python3.11/dist-packages/keras/src/legacy/saving/legacy_h5_format.py:513: UserWarning: Skipping loading weights for layer #1 (named inception_v3)due to mismatch in shape for weight batch_normalization_68/moving_mean. Weight expects shape (192,). Received saved weight with shape (160,)\n",
            "  _set_weights(\n",
            "/usr/local/lib/python3.11/dist-packages/keras/src/legacy/saving/legacy_h5_format.py:513: UserWarning: Skipping loading weights for layer #1 (named inception_v3)due to mismatch in shape for weight batch_normalization_68/moving_variance. Weight expects shape (192,). Received saved weight with shape (160,)\n",
            "  _set_weights(\n",
            "/usr/local/lib/python3.11/dist-packages/keras/src/legacy/saving/legacy_h5_format.py:513: UserWarning: Skipping loading weights for layer #1 (named inception_v3)due to mismatch in shape for weight batch_normalization_69/beta. Weight expects shape (192,). Received saved weight with shape (160,)\n",
            "  _set_weights(\n",
            "/usr/local/lib/python3.11/dist-packages/keras/src/legacy/saving/legacy_h5_format.py:513: UserWarning: Skipping loading weights for layer #1 (named inception_v3)due to mismatch in shape for weight batch_normalization_69/moving_mean. Weight expects shape (192,). Received saved weight with shape (160,)\n",
            "  _set_weights(\n",
            "/usr/local/lib/python3.11/dist-packages/keras/src/legacy/saving/legacy_h5_format.py:513: UserWarning: Skipping loading weights for layer #1 (named inception_v3)due to mismatch in shape for weight batch_normalization_69/moving_variance. Weight expects shape (192,). Received saved weight with shape (160,)\n",
            "  _set_weights(\n",
            "/usr/local/lib/python3.11/dist-packages/keras/src/legacy/saving/legacy_h5_format.py:513: UserWarning: Skipping loading weights for layer #1 (named inception_v3)due to mismatch in shape for weight conv2d_72/kernel. Weight expects shape (1, 1, 768, 192). Received saved weight with shape (192,)\n",
            "  _set_weights(\n",
            "/usr/local/lib/python3.11/dist-packages/keras/src/legacy/saving/legacy_h5_format.py:513: UserWarning: Skipping loading weights for layer #1 (named inception_v3)due to mismatch in shape for weight conv2d_73/kernel. Weight expects shape (1, 7, 192, 192). Received saved weight with shape (192,)\n",
            "  _set_weights(\n",
            "/usr/local/lib/python3.11/dist-packages/keras/src/legacy/saving/legacy_h5_format.py:513: UserWarning: Skipping loading weights for layer #1 (named inception_v3)due to mismatch in shape for weight conv2d_70/kernel. Weight expects shape (1, 1, 768, 192). Received saved weight with shape (160,)\n",
            "  _set_weights(\n",
            "/usr/local/lib/python3.11/dist-packages/keras/src/legacy/saving/legacy_h5_format.py:513: UserWarning: Skipping loading weights for layer #1 (named inception_v3)due to mismatch in shape for weight conv2d_74/kernel. Weight expects shape (7, 1, 192, 192). Received saved weight with shape (160,)\n",
            "  _set_weights(\n",
            "/usr/local/lib/python3.11/dist-packages/keras/src/legacy/saving/legacy_h5_format.py:513: UserWarning: Skipping loading weights for layer #1 (named inception_v3)due to mismatch in shape for weight batch_normalization_70/beta. Weight expects shape (192,). Received saved weight with shape (160,)\n",
            "  _set_weights(\n",
            "/usr/local/lib/python3.11/dist-packages/keras/src/legacy/saving/legacy_h5_format.py:513: UserWarning: Skipping loading weights for layer #1 (named inception_v3)due to mismatch in shape for weight batch_normalization_70/moving_mean. Weight expects shape (192,). Received saved weight with shape (160,)\n",
            "  _set_weights(\n",
            "/usr/local/lib/python3.11/dist-packages/keras/src/legacy/saving/legacy_h5_format.py:513: UserWarning: Skipping loading weights for layer #1 (named inception_v3)due to mismatch in shape for weight batch_normalization_70/moving_variance. Weight expects shape (192,). Received saved weight with shape (160,)\n",
            "  _set_weights(\n",
            "/usr/local/lib/python3.11/dist-packages/keras/src/legacy/saving/legacy_h5_format.py:513: UserWarning: Skipping loading weights for layer #1 (named inception_v3)due to mismatch in shape for weight batch_normalization_74/beta. Weight expects shape (192,). Received saved weight with shape (160,)\n",
            "  _set_weights(\n",
            "/usr/local/lib/python3.11/dist-packages/keras/src/legacy/saving/legacy_h5_format.py:513: UserWarning: Skipping loading weights for layer #1 (named inception_v3)due to mismatch in shape for weight batch_normalization_74/moving_mean. Weight expects shape (192,). Received saved weight with shape (160,)\n",
            "  _set_weights(\n",
            "/usr/local/lib/python3.11/dist-packages/keras/src/legacy/saving/legacy_h5_format.py:513: UserWarning: Skipping loading weights for layer #1 (named inception_v3)due to mismatch in shape for weight batch_normalization_74/moving_variance. Weight expects shape (192,). Received saved weight with shape (160,)\n",
            "  _set_weights(\n",
            "/usr/local/lib/python3.11/dist-packages/keras/src/legacy/saving/legacy_h5_format.py:513: UserWarning: Skipping loading weights for layer #1 (named inception_v3)due to mismatch in shape for weight conv2d_71/kernel. Weight expects shape (3, 3, 192, 320). Received saved weight with shape (160,)\n",
            "  _set_weights(\n",
            "/usr/local/lib/python3.11/dist-packages/keras/src/legacy/saving/legacy_h5_format.py:513: UserWarning: Skipping loading weights for layer #1 (named inception_v3)due to mismatch in shape for weight conv2d_75/kernel. Weight expects shape (3, 3, 192, 192). Received saved weight with shape (160,)\n",
            "  _set_weights(\n",
            "/usr/local/lib/python3.11/dist-packages/keras/src/legacy/saving/legacy_h5_format.py:513: UserWarning: Skipping loading weights for layer #1 (named inception_v3)due to mismatch in shape for weight batch_normalization_71/beta. Weight expects shape (320,). Received saved weight with shape (160,)\n",
            "  _set_weights(\n",
            "/usr/local/lib/python3.11/dist-packages/keras/src/legacy/saving/legacy_h5_format.py:513: UserWarning: Skipping loading weights for layer #1 (named inception_v3)due to mismatch in shape for weight batch_normalization_71/moving_mean. Weight expects shape (320,). Received saved weight with shape (160,)\n",
            "  _set_weights(\n",
            "/usr/local/lib/python3.11/dist-packages/keras/src/legacy/saving/legacy_h5_format.py:513: UserWarning: Skipping loading weights for layer #1 (named inception_v3)due to mismatch in shape for weight batch_normalization_71/moving_variance. Weight expects shape (320,). Received saved weight with shape (192,)\n",
            "  _set_weights(\n",
            "/usr/local/lib/python3.11/dist-packages/keras/src/legacy/saving/legacy_h5_format.py:513: UserWarning: Skipping loading weights for layer #1 (named inception_v3)due to mismatch in shape for weight conv2d_80/kernel. Weight expects shape (1, 1, 1280, 448). Received saved weight with shape (192,)\n",
            "  _set_weights(\n",
            "/usr/local/lib/python3.11/dist-packages/keras/src/legacy/saving/legacy_h5_format.py:513: UserWarning: Skipping loading weights for layer #1 (named inception_v3)due to mismatch in shape for weight batch_normalization_80/beta. Weight expects shape (448,). Received saved weight with shape (192,)\n",
            "  _set_weights(\n",
            "/usr/local/lib/python3.11/dist-packages/keras/src/legacy/saving/legacy_h5_format.py:513: UserWarning: Skipping loading weights for layer #1 (named inception_v3)due to mismatch in shape for weight batch_normalization_80/moving_mean. Weight expects shape (448,). Received saved weight with shape (192,)\n",
            "  _set_weights(\n",
            "/usr/local/lib/python3.11/dist-packages/keras/src/legacy/saving/legacy_h5_format.py:513: UserWarning: Skipping loading weights for layer #1 (named inception_v3)due to mismatch in shape for weight batch_normalization_80/moving_variance. Weight expects shape (448,). Received saved weight with shape (192,)\n",
            "  _set_weights(\n",
            "/usr/local/lib/python3.11/dist-packages/keras/src/legacy/saving/legacy_h5_format.py:513: UserWarning: Skipping loading weights for layer #1 (named inception_v3)due to mismatch in shape for weight conv2d_77/kernel. Weight expects shape (1, 1, 1280, 384). Received saved weight with shape (192,)\n",
            "  _set_weights(\n",
            "/usr/local/lib/python3.11/dist-packages/keras/src/legacy/saving/legacy_h5_format.py:513: UserWarning: Skipping loading weights for layer #1 (named inception_v3)due to mismatch in shape for weight conv2d_81/kernel. Weight expects shape (3, 3, 448, 384). Received saved weight with shape (192,)\n",
            "  _set_weights(\n",
            "/usr/local/lib/python3.11/dist-packages/keras/src/legacy/saving/legacy_h5_format.py:513: UserWarning: Skipping loading weights for layer #1 (named inception_v3)due to mismatch in shape for weight batch_normalization_77/beta. Weight expects shape (384,). Received saved weight with shape (192,)\n",
            "  _set_weights(\n",
            "/usr/local/lib/python3.11/dist-packages/keras/src/legacy/saving/legacy_h5_format.py:513: UserWarning: Skipping loading weights for layer #1 (named inception_v3)due to mismatch in shape for weight batch_normalization_77/moving_mean. Weight expects shape (384,). Received saved weight with shape (192,)\n",
            "  _set_weights(\n",
            "/usr/local/lib/python3.11/dist-packages/keras/src/legacy/saving/legacy_h5_format.py:513: UserWarning: Skipping loading weights for layer #1 (named inception_v3)due to mismatch in shape for weight batch_normalization_77/moving_variance. Weight expects shape (384,). Received saved weight with shape (192,)\n",
            "  _set_weights(\n",
            "/usr/local/lib/python3.11/dist-packages/keras/src/legacy/saving/legacy_h5_format.py:513: UserWarning: Skipping loading weights for layer #1 (named inception_v3)due to mismatch in shape for weight batch_normalization_81/beta. Weight expects shape (384,). Received saved weight with shape (192,)\n",
            "  _set_weights(\n",
            "/usr/local/lib/python3.11/dist-packages/keras/src/legacy/saving/legacy_h5_format.py:513: UserWarning: Skipping loading weights for layer #1 (named inception_v3)due to mismatch in shape for weight batch_normalization_81/moving_mean. Weight expects shape (384,). Received saved weight with shape (192,)\n",
            "  _set_weights(\n",
            "/usr/local/lib/python3.11/dist-packages/keras/src/legacy/saving/legacy_h5_format.py:513: UserWarning: Skipping loading weights for layer #1 (named inception_v3)due to mismatch in shape for weight batch_normalization_81/moving_variance. Weight expects shape (384,). Received saved weight with shape (192,)\n",
            "  _set_weights(\n",
            "/usr/local/lib/python3.11/dist-packages/keras/src/legacy/saving/legacy_h5_format.py:513: UserWarning: Skipping loading weights for layer #1 (named inception_v3)due to mismatch in shape for weight conv2d_78/kernel. Weight expects shape (1, 3, 384, 384). Received saved weight with shape (192,)\n",
            "  _set_weights(\n",
            "/usr/local/lib/python3.11/dist-packages/keras/src/legacy/saving/legacy_h5_format.py:513: UserWarning: Skipping loading weights for layer #1 (named inception_v3)due to mismatch in shape for weight conv2d_79/kernel. Weight expects shape (3, 1, 384, 384). Received saved weight with shape (192,)\n",
            "  _set_weights(\n",
            "/usr/local/lib/python3.11/dist-packages/keras/src/legacy/saving/legacy_h5_format.py:513: UserWarning: Skipping loading weights for layer #1 (named inception_v3)due to mismatch in shape for weight conv2d_82/kernel. Weight expects shape (1, 3, 384, 384). Received saved weight with shape (192,)\n",
            "  _set_weights(\n",
            "/usr/local/lib/python3.11/dist-packages/keras/src/legacy/saving/legacy_h5_format.py:513: UserWarning: Skipping loading weights for layer #1 (named inception_v3)due to mismatch in shape for weight conv2d_83/kernel. Weight expects shape (3, 1, 384, 384). Received saved weight with shape (192,)\n",
            "  _set_weights(\n",
            "/usr/local/lib/python3.11/dist-packages/keras/src/legacy/saving/legacy_h5_format.py:513: UserWarning: Skipping loading weights for layer #1 (named inception_v3)due to mismatch in shape for weight conv2d_76/kernel. Weight expects shape (1, 1, 1280, 320). Received saved weight with shape (192,)\n",
            "  _set_weights(\n",
            "/usr/local/lib/python3.11/dist-packages/keras/src/legacy/saving/legacy_h5_format.py:513: UserWarning: Skipping loading weights for layer #1 (named inception_v3)due to mismatch in shape for weight batch_normalization_78/beta. Weight expects shape (384,). Received saved weight with shape (192,)\n",
            "  _set_weights(\n",
            "/usr/local/lib/python3.11/dist-packages/keras/src/legacy/saving/legacy_h5_format.py:513: UserWarning: Skipping loading weights for layer #1 (named inception_v3)due to mismatch in shape for weight batch_normalization_78/moving_mean. Weight expects shape (384,). Received saved weight with shape (192,)\n",
            "  _set_weights(\n",
            "/usr/local/lib/python3.11/dist-packages/keras/src/legacy/saving/legacy_h5_format.py:513: UserWarning: Skipping loading weights for layer #1 (named inception_v3)due to mismatch in shape for weight batch_normalization_78/moving_variance. Weight expects shape (384,). Received saved weight with shape (192,)\n",
            "  _set_weights(\n",
            "/usr/local/lib/python3.11/dist-packages/keras/src/legacy/saving/legacy_h5_format.py:513: UserWarning: Skipping loading weights for layer #1 (named inception_v3)due to mismatch in shape for weight batch_normalization_79/beta. Weight expects shape (384,). Received saved weight with shape (192,)\n",
            "  _set_weights(\n",
            "/usr/local/lib/python3.11/dist-packages/keras/src/legacy/saving/legacy_h5_format.py:513: UserWarning: Skipping loading weights for layer #1 (named inception_v3)due to mismatch in shape for weight batch_normalization_79/moving_mean. Weight expects shape (384,). Received saved weight with shape (192,)\n",
            "  _set_weights(\n",
            "/usr/local/lib/python3.11/dist-packages/keras/src/legacy/saving/legacy_h5_format.py:513: UserWarning: Skipping loading weights for layer #1 (named inception_v3)due to mismatch in shape for weight batch_normalization_79/moving_variance. Weight expects shape (384,). Received saved weight with shape (192,)\n",
            "  _set_weights(\n",
            "/usr/local/lib/python3.11/dist-packages/keras/src/legacy/saving/legacy_h5_format.py:513: UserWarning: Skipping loading weights for layer #1 (named inception_v3)due to mismatch in shape for weight batch_normalization_82/beta. Weight expects shape (384,). Received saved weight with shape (192,)\n",
            "  _set_weights(\n",
            "/usr/local/lib/python3.11/dist-packages/keras/src/legacy/saving/legacy_h5_format.py:513: UserWarning: Skipping loading weights for layer #1 (named inception_v3)due to mismatch in shape for weight batch_normalization_82/moving_mean. Weight expects shape (384,). Received saved weight with shape (192,)\n",
            "  _set_weights(\n",
            "/usr/local/lib/python3.11/dist-packages/keras/src/legacy/saving/legacy_h5_format.py:513: UserWarning: Skipping loading weights for layer #1 (named inception_v3)due to mismatch in shape for weight batch_normalization_82/moving_variance. Weight expects shape (384,). Received saved weight with shape (192,)\n",
            "  _set_weights(\n",
            "/usr/local/lib/python3.11/dist-packages/keras/src/legacy/saving/legacy_h5_format.py:513: UserWarning: Skipping loading weights for layer #1 (named inception_v3)due to mismatch in shape for weight batch_normalization_83/beta. Weight expects shape (384,). Received saved weight with shape (192,)\n",
            "  _set_weights(\n",
            "/usr/local/lib/python3.11/dist-packages/keras/src/legacy/saving/legacy_h5_format.py:513: UserWarning: Skipping loading weights for layer #1 (named inception_v3)due to mismatch in shape for weight batch_normalization_83/moving_mean. Weight expects shape (384,). Received saved weight with shape (192,)\n",
            "  _set_weights(\n",
            "/usr/local/lib/python3.11/dist-packages/keras/src/legacy/saving/legacy_h5_format.py:513: UserWarning: Skipping loading weights for layer #1 (named inception_v3)due to mismatch in shape for weight batch_normalization_83/moving_variance. Weight expects shape (384,). Received saved weight with shape (192,)\n",
            "  _set_weights(\n",
            "/usr/local/lib/python3.11/dist-packages/keras/src/legacy/saving/legacy_h5_format.py:513: UserWarning: Skipping loading weights for layer #1 (named inception_v3)due to mismatch in shape for weight conv2d_84/kernel. Weight expects shape (1, 1, 1280, 192). Received saved weight with shape (192,)\n",
            "  _set_weights(\n",
            "/usr/local/lib/python3.11/dist-packages/keras/src/legacy/saving/legacy_h5_format.py:513: UserWarning: Skipping loading weights for layer #1 (named inception_v3)due to mismatch in shape for weight batch_normalization_76/beta. Weight expects shape (320,). Received saved weight with shape (192,)\n",
            "  _set_weights(\n",
            "/usr/local/lib/python3.11/dist-packages/keras/src/legacy/saving/legacy_h5_format.py:513: UserWarning: Skipping loading weights for layer #1 (named inception_v3)due to mismatch in shape for weight batch_normalization_76/moving_mean. Weight expects shape (320,). Received saved weight with shape (192,)\n",
            "  _set_weights(\n",
            "/usr/local/lib/python3.11/dist-packages/keras/src/legacy/saving/legacy_h5_format.py:513: UserWarning: Skipping loading weights for layer #1 (named inception_v3)due to mismatch in shape for weight batch_normalization_84/beta. Weight expects shape (192,). Received saved weight with shape (320,)\n",
            "  _set_weights(\n",
            "/usr/local/lib/python3.11/dist-packages/keras/src/legacy/saving/legacy_h5_format.py:513: UserWarning: Skipping loading weights for layer #1 (named inception_v3)due to mismatch in shape for weight conv2d_89/kernel. Weight expects shape (1, 1, 2048, 448). Received saved weight with shape (448,)\n",
            "  _set_weights(\n",
            "/usr/local/lib/python3.11/dist-packages/keras/src/legacy/saving/legacy_h5_format.py:513: UserWarning: Skipping loading weights for layer #1 (named inception_v3)due to mismatch in shape for weight batch_normalization_89/moving_mean. Weight expects shape (448,). Received saved weight with shape (384,)\n",
            "  _set_weights(\n",
            "/usr/local/lib/python3.11/dist-packages/keras/src/legacy/saving/legacy_h5_format.py:513: UserWarning: Skipping loading weights for layer #1 (named inception_v3)due to mismatch in shape for weight batch_normalization_89/moving_variance. Weight expects shape (448,). Received saved weight with shape (384,)\n",
            "  _set_weights(\n",
            "/usr/local/lib/python3.11/dist-packages/keras/src/legacy/saving/legacy_h5_format.py:513: UserWarning: Skipping loading weights for layer #1 (named inception_v3)due to mismatch in shape for weight conv2d_86/kernel. Weight expects shape (1, 1, 2048, 384). Received saved weight with shape (384,)\n",
            "  _set_weights(\n",
            "/usr/local/lib/python3.11/dist-packages/keras/src/legacy/saving/legacy_h5_format.py:513: UserWarning: Skipping loading weights for layer #1 (named inception_v3)due to mismatch in shape for weight conv2d_90/kernel. Weight expects shape (3, 3, 448, 384). Received saved weight with shape (384,)\n",
            "  _set_weights(\n",
            "/usr/local/lib/python3.11/dist-packages/keras/src/legacy/saving/legacy_h5_format.py:513: UserWarning: Skipping loading weights for layer #1 (named inception_v3)due to mismatch in shape for weight conv2d_87/kernel. Weight expects shape (1, 3, 384, 384). Received saved weight with shape (384,)\n",
            "  _set_weights(\n",
            "/usr/local/lib/python3.11/dist-packages/keras/src/legacy/saving/legacy_h5_format.py:513: UserWarning: Skipping loading weights for layer #1 (named inception_v3)due to mismatch in shape for weight conv2d_88/kernel. Weight expects shape (3, 1, 384, 384). Received saved weight with shape (384,)\n",
            "  _set_weights(\n",
            "/usr/local/lib/python3.11/dist-packages/keras/src/legacy/saving/legacy_h5_format.py:513: UserWarning: Skipping loading weights for layer #1 (named inception_v3)due to mismatch in shape for weight conv2d_91/kernel. Weight expects shape (1, 3, 384, 384). Received saved weight with shape (320,)\n",
            "  _set_weights(\n",
            "/usr/local/lib/python3.11/dist-packages/keras/src/legacy/saving/legacy_h5_format.py:513: UserWarning: Skipping loading weights for layer #1 (named inception_v3)due to mismatch in shape for weight conv2d_92/kernel. Weight expects shape (3, 1, 384, 384). Received saved weight with shape (320,)\n",
            "  _set_weights(\n",
            "/usr/local/lib/python3.11/dist-packages/keras/src/legacy/saving/legacy_h5_format.py:513: UserWarning: Skipping loading weights for layer #1 (named inception_v3)due to mismatch in shape for weight conv2d_85/kernel. Weight expects shape (1, 1, 2048, 320). Received saved weight with shape (192,)\n",
            "  _set_weights(\n",
            "/usr/local/lib/python3.11/dist-packages/keras/src/legacy/saving/legacy_h5_format.py:513: UserWarning: Skipping loading weights for layer #1 (named inception_v3)due to mismatch in shape for weight batch_normalization_87/beta. Weight expects shape (384,). Received saved weight with shape (192,)\n",
            "  _set_weights(\n",
            "/usr/local/lib/python3.11/dist-packages/keras/src/legacy/saving/legacy_h5_format.py:513: UserWarning: Skipping loading weights for layer #1 (named inception_v3)due to mismatch in shape for weight batch_normalization_87/moving_mean. Weight expects shape (384,). Received saved weight with shape (448,)\n",
            "  _set_weights(\n",
            "/usr/local/lib/python3.11/dist-packages/keras/src/legacy/saving/legacy_h5_format.py:513: UserWarning: Skipping loading weights for layer #1 (named inception_v3)due to mismatch in shape for weight batch_normalization_87/moving_variance. Weight expects shape (384,). Received saved weight with shape (448,)\n",
            "  _set_weights(\n",
            "/usr/local/lib/python3.11/dist-packages/keras/src/legacy/saving/legacy_h5_format.py:513: UserWarning: Skipping loading weights for layer #1 (named inception_v3)due to mismatch in shape for weight conv2d_93/kernel. Weight expects shape (1, 1, 2048, 192). Received saved weight with shape (384,)\n",
            "  _set_weights(\n",
            "/usr/local/lib/python3.11/dist-packages/keras/src/legacy/saving/legacy_h5_format.py:513: UserWarning: Skipping loading weights for layer #1 (named inception_v3)due to mismatch in shape for weight batch_normalization_85/beta. Weight expects shape (320,). Received saved weight with shape (384,)\n",
            "  _set_weights(\n",
            "/usr/local/lib/python3.11/dist-packages/keras/src/legacy/saving/legacy_h5_format.py:513: UserWarning: Skipping loading weights for layer #1 (named inception_v3)due to mismatch in shape for weight batch_normalization_85/moving_mean. Weight expects shape (320,). Received saved weight with shape (384,)\n",
            "  _set_weights(\n",
            "/usr/local/lib/python3.11/dist-packages/keras/src/legacy/saving/legacy_h5_format.py:513: UserWarning: Skipping loading weights for layer #1 (named inception_v3)due to mismatch in shape for weight batch_normalization_93/beta. Weight expects shape (192,). Received saved weight with shape (320,)\n",
            "  _set_weights(\n"
          ]
        }
      ]
    },
    {
      "cell_type": "markdown",
      "source": [
        "### 11. **Re-initializing Specific Weights**\n",
        "In this section, we re-initialize the weights for some layers. This is useful when you want to reset specific layers (e.g., InceptionV3 layers) while keeping others intact. Here, the weights of layers that are not BatchNormalization layers are reset to zero."
      ],
      "metadata": {
        "id": "NJ9-gLxJ2sGd"
      }
    },
    {
      "cell_type": "code",
      "source": [
        "# Then, re-initialize the weights of the InceptionV3 layers\n",
        "for layer in base_pretrained_model.layers:\n",
        "    if layer.name in retina_model.layers and layer.get_weights(): # Check if the layer has weights\n",
        "        if isinstance(layer, BatchNormalization): # Only re-initialize non-batch normalization layers\n",
        "            continue\n",
        "        weights = layer.get_weights()\n",
        "        # You can use different initialization strategies (e.g., random_normal, glorot_uniform)\n",
        "        # but here we'll just reset to zeros for demonstration\n",
        "        weights = [np.zeros(w.shape) for w in weights]\n",
        "        layer.set_weights(weights)\n",
        "        print(f\"Re-initialized weights for layer: {layer.name}\")"
      ],
      "metadata": {
        "id": "Y4JMOYfn20Zc"
      },
      "execution_count": 15,
      "outputs": []
    },
    {
      "cell_type": "code",
      "source": [
        "retina_model.summary()"
      ],
      "metadata": {
        "colab": {
          "base_uri": "https://localhost:8080/",
          "height": 849
        },
        "id": "q506MYBp_rdY",
        "outputId": "ba628aa3-95de-4c08-f596-38e722e44d39"
      },
      "execution_count": 16,
      "outputs": [
        {
          "output_type": "display_data",
          "data": {
            "text/plain": [
              "\u001b[1mModel: \"functional\"\u001b[0m\n"
            ],
            "text/html": [
              "<pre style=\"white-space:pre;overflow-x:auto;line-height:normal;font-family:Menlo,'DejaVu Sans Mono',consolas,'Courier New',monospace\"><span style=\"font-weight: bold\">Model: \"functional\"</span>\n",
              "</pre>\n"
            ]
          },
          "metadata": {}
        },
        {
          "output_type": "display_data",
          "data": {
            "text/plain": [
              "┏━━━━━━━━━━━━━━━━━━━━━┳━━━━━━━━━━━━━━━━━━━┳━━━━━━━━━━━━┳━━━━━━━━━━━━━━━━━━━┓\n",
              "┃\u001b[1m \u001b[0m\u001b[1mLayer (type)       \u001b[0m\u001b[1m \u001b[0m┃\u001b[1m \u001b[0m\u001b[1mOutput Shape     \u001b[0m\u001b[1m \u001b[0m┃\u001b[1m \u001b[0m\u001b[1m   Param #\u001b[0m\u001b[1m \u001b[0m┃\u001b[1m \u001b[0m\u001b[1mConnected to     \u001b[0m\u001b[1m \u001b[0m┃\n",
              "┡━━━━━━━━━━━━━━━━━━━━━╇━━━━━━━━━━━━━━━━━━━╇━━━━━━━━━━━━╇━━━━━━━━━━━━━━━━━━━┩\n",
              "│ input_layer         │ (\u001b[38;5;45mNone\u001b[0m, \u001b[38;5;34m512\u001b[0m, \u001b[38;5;34m512\u001b[0m,  │          \u001b[38;5;34m0\u001b[0m │ -                 │\n",
              "│ (\u001b[38;5;33mInputLayer\u001b[0m)        │ \u001b[38;5;34m3\u001b[0m)                │            │                   │\n",
              "├─────────────────────┼───────────────────┼────────────┼───────────────────┤\n",
              "│ inception_v3        │ (\u001b[38;5;45mNone\u001b[0m, \u001b[38;5;34m14\u001b[0m, \u001b[38;5;34m14\u001b[0m,    │ \u001b[38;5;34m21,802,784\u001b[0m │ input_layer[\u001b[38;5;34m0\u001b[0m][\u001b[38;5;34m0\u001b[0m] │\n",
              "│ (\u001b[38;5;33mFunctional\u001b[0m)        │ \u001b[38;5;34m2048\u001b[0m)             │            │                   │\n",
              "├─────────────────────┼───────────────────┼────────────┼───────────────────┤\n",
              "│ batch_normalizatio… │ (\u001b[38;5;45mNone\u001b[0m, \u001b[38;5;34m14\u001b[0m, \u001b[38;5;34m14\u001b[0m,    │      \u001b[38;5;34m8,192\u001b[0m │ inception_v3[\u001b[38;5;34m0\u001b[0m][\u001b[38;5;34m…\u001b[0m │\n",
              "│ (\u001b[38;5;33mBatchNormalizatio…\u001b[0m │ \u001b[38;5;34m2048\u001b[0m)             │            │                   │\n",
              "├─────────────────────┼───────────────────┼────────────┼───────────────────┤\n",
              "│ dropout_1 (\u001b[38;5;33mDropout\u001b[0m) │ (\u001b[38;5;45mNone\u001b[0m, \u001b[38;5;34m14\u001b[0m, \u001b[38;5;34m14\u001b[0m,    │          \u001b[38;5;34m0\u001b[0m │ batch_normalizat… │\n",
              "│                     │ \u001b[38;5;34m2048\u001b[0m)             │            │                   │\n",
              "├─────────────────────┼───────────────────┼────────────┼───────────────────┤\n",
              "│ conv2d_95 (\u001b[38;5;33mConv2D\u001b[0m)  │ (\u001b[38;5;45mNone\u001b[0m, \u001b[38;5;34m14\u001b[0m, \u001b[38;5;34m14\u001b[0m,    │    \u001b[38;5;34m131,136\u001b[0m │ dropout_1[\u001b[38;5;34m0\u001b[0m][\u001b[38;5;34m0\u001b[0m]   │\n",
              "│                     │ \u001b[38;5;34m64\u001b[0m)               │            │                   │\n",
              "├─────────────────────┼───────────────────┼────────────┼───────────────────┤\n",
              "│ conv2d_96 (\u001b[38;5;33mConv2D\u001b[0m)  │ (\u001b[38;5;45mNone\u001b[0m, \u001b[38;5;34m14\u001b[0m, \u001b[38;5;34m14\u001b[0m,    │      \u001b[38;5;34m1,040\u001b[0m │ conv2d_95[\u001b[38;5;34m0\u001b[0m][\u001b[38;5;34m0\u001b[0m]   │\n",
              "│                     │ \u001b[38;5;34m16\u001b[0m)               │            │                   │\n",
              "├─────────────────────┼───────────────────┼────────────┼───────────────────┤\n",
              "│ conv2d_97 (\u001b[38;5;33mConv2D\u001b[0m)  │ (\u001b[38;5;45mNone\u001b[0m, \u001b[38;5;34m14\u001b[0m, \u001b[38;5;34m14\u001b[0m, \u001b[38;5;34m8\u001b[0m) │        \u001b[38;5;34m136\u001b[0m │ conv2d_96[\u001b[38;5;34m0\u001b[0m][\u001b[38;5;34m0\u001b[0m]   │\n",
              "├─────────────────────┼───────────────────┼────────────┼───────────────────┤\n",
              "│ conv2d_98 (\u001b[38;5;33mConv2D\u001b[0m)  │ (\u001b[38;5;45mNone\u001b[0m, \u001b[38;5;34m14\u001b[0m, \u001b[38;5;34m14\u001b[0m, \u001b[38;5;34m1\u001b[0m) │          \u001b[38;5;34m9\u001b[0m │ conv2d_97[\u001b[38;5;34m0\u001b[0m][\u001b[38;5;34m0\u001b[0m]   │\n",
              "├─────────────────────┼───────────────────┼────────────┼───────────────────┤\n",
              "│ conv2d_99 (\u001b[38;5;33mConv2D\u001b[0m)  │ (\u001b[38;5;45mNone\u001b[0m, \u001b[38;5;34m14\u001b[0m, \u001b[38;5;34m14\u001b[0m,    │      \u001b[38;5;34m2,048\u001b[0m │ conv2d_98[\u001b[38;5;34m0\u001b[0m][\u001b[38;5;34m0\u001b[0m]   │\n",
              "│                     │ \u001b[38;5;34m2048\u001b[0m)             │            │                   │\n",
              "├─────────────────────┼───────────────────┼────────────┼───────────────────┤\n",
              "│ multiply_1          │ (\u001b[38;5;45mNone\u001b[0m, \u001b[38;5;34m14\u001b[0m, \u001b[38;5;34m14\u001b[0m,    │          \u001b[38;5;34m0\u001b[0m │ conv2d_99[\u001b[38;5;34m0\u001b[0m][\u001b[38;5;34m0\u001b[0m],  │\n",
              "│ (\u001b[38;5;33mMultiply\u001b[0m)          │ \u001b[38;5;34m2048\u001b[0m)             │            │ batch_normalizat… │\n",
              "├─────────────────────┼───────────────────┼────────────┼───────────────────┤\n",
              "│ global_average_poo… │ (\u001b[38;5;45mNone\u001b[0m, \u001b[38;5;34m2048\u001b[0m)      │          \u001b[38;5;34m0\u001b[0m │ multiply_1[\u001b[38;5;34m0\u001b[0m][\u001b[38;5;34m0\u001b[0m]  │\n",
              "│ (\u001b[38;5;33mGlobalAveragePool…\u001b[0m │                   │            │                   │\n",
              "├─────────────────────┼───────────────────┼────────────┼───────────────────┤\n",
              "│ global_average_poo… │ (\u001b[38;5;45mNone\u001b[0m, \u001b[38;5;34m2048\u001b[0m)      │          \u001b[38;5;34m0\u001b[0m │ conv2d_99[\u001b[38;5;34m0\u001b[0m][\u001b[38;5;34m0\u001b[0m]   │\n",
              "│ (\u001b[38;5;33mGlobalAveragePool…\u001b[0m │                   │            │                   │\n",
              "├─────────────────────┼───────────────────┼────────────┼───────────────────┤\n",
              "│ RescaleGAP (\u001b[38;5;33mLambda\u001b[0m) │ (\u001b[38;5;45mNone\u001b[0m, \u001b[38;5;34m2048\u001b[0m)      │          \u001b[38;5;34m0\u001b[0m │ global_average_p… │\n",
              "│                     │                   │            │ global_average_p… │\n",
              "├─────────────────────┼───────────────────┼────────────┼───────────────────┤\n",
              "│ dropout_2 (\u001b[38;5;33mDropout\u001b[0m) │ (\u001b[38;5;45mNone\u001b[0m, \u001b[38;5;34m2048\u001b[0m)      │          \u001b[38;5;34m0\u001b[0m │ RescaleGAP[\u001b[38;5;34m0\u001b[0m][\u001b[38;5;34m0\u001b[0m]  │\n",
              "├─────────────────────┼───────────────────┼────────────┼───────────────────┤\n",
              "│ dense_1 (\u001b[38;5;33mDense\u001b[0m)     │ (\u001b[38;5;45mNone\u001b[0m, \u001b[38;5;34m128\u001b[0m)       │    \u001b[38;5;34m262,272\u001b[0m │ dropout_2[\u001b[38;5;34m0\u001b[0m][\u001b[38;5;34m0\u001b[0m]   │\n",
              "├─────────────────────┼───────────────────┼────────────┼───────────────────┤\n",
              "│ dropout_3 (\u001b[38;5;33mDropout\u001b[0m) │ (\u001b[38;5;45mNone\u001b[0m, \u001b[38;5;34m128\u001b[0m)       │          \u001b[38;5;34m0\u001b[0m │ dense_1[\u001b[38;5;34m0\u001b[0m][\u001b[38;5;34m0\u001b[0m]     │\n",
              "├─────────────────────┼───────────────────┼────────────┼───────────────────┤\n",
              "│ dense_2 (\u001b[38;5;33mDense\u001b[0m)     │ (\u001b[38;5;45mNone\u001b[0m, \u001b[38;5;34m5\u001b[0m)         │        \u001b[38;5;34m645\u001b[0m │ dropout_3[\u001b[38;5;34m0\u001b[0m][\u001b[38;5;34m0\u001b[0m]   │\n",
              "└─────────────────────┴───────────────────┴────────────┴───────────────────┘\n"
            ],
            "text/html": [
              "<pre style=\"white-space:pre;overflow-x:auto;line-height:normal;font-family:Menlo,'DejaVu Sans Mono',consolas,'Courier New',monospace\">┏━━━━━━━━━━━━━━━━━━━━━┳━━━━━━━━━━━━━━━━━━━┳━━━━━━━━━━━━┳━━━━━━━━━━━━━━━━━━━┓\n",
              "┃<span style=\"font-weight: bold\"> Layer (type)        </span>┃<span style=\"font-weight: bold\"> Output Shape      </span>┃<span style=\"font-weight: bold\">    Param # </span>┃<span style=\"font-weight: bold\"> Connected to      </span>┃\n",
              "┡━━━━━━━━━━━━━━━━━━━━━╇━━━━━━━━━━━━━━━━━━━╇━━━━━━━━━━━━╇━━━━━━━━━━━━━━━━━━━┩\n",
              "│ input_layer         │ (<span style=\"color: #00d7ff; text-decoration-color: #00d7ff\">None</span>, <span style=\"color: #00af00; text-decoration-color: #00af00\">512</span>, <span style=\"color: #00af00; text-decoration-color: #00af00\">512</span>,  │          <span style=\"color: #00af00; text-decoration-color: #00af00\">0</span> │ -                 │\n",
              "│ (<span style=\"color: #0087ff; text-decoration-color: #0087ff\">InputLayer</span>)        │ <span style=\"color: #00af00; text-decoration-color: #00af00\">3</span>)                │            │                   │\n",
              "├─────────────────────┼───────────────────┼────────────┼───────────────────┤\n",
              "│ inception_v3        │ (<span style=\"color: #00d7ff; text-decoration-color: #00d7ff\">None</span>, <span style=\"color: #00af00; text-decoration-color: #00af00\">14</span>, <span style=\"color: #00af00; text-decoration-color: #00af00\">14</span>,    │ <span style=\"color: #00af00; text-decoration-color: #00af00\">21,802,784</span> │ input_layer[<span style=\"color: #00af00; text-decoration-color: #00af00\">0</span>][<span style=\"color: #00af00; text-decoration-color: #00af00\">0</span>] │\n",
              "│ (<span style=\"color: #0087ff; text-decoration-color: #0087ff\">Functional</span>)        │ <span style=\"color: #00af00; text-decoration-color: #00af00\">2048</span>)             │            │                   │\n",
              "├─────────────────────┼───────────────────┼────────────┼───────────────────┤\n",
              "│ batch_normalizatio… │ (<span style=\"color: #00d7ff; text-decoration-color: #00d7ff\">None</span>, <span style=\"color: #00af00; text-decoration-color: #00af00\">14</span>, <span style=\"color: #00af00; text-decoration-color: #00af00\">14</span>,    │      <span style=\"color: #00af00; text-decoration-color: #00af00\">8,192</span> │ inception_v3[<span style=\"color: #00af00; text-decoration-color: #00af00\">0</span>][<span style=\"color: #00af00; text-decoration-color: #00af00\">…</span> │\n",
              "│ (<span style=\"color: #0087ff; text-decoration-color: #0087ff\">BatchNormalizatio…</span> │ <span style=\"color: #00af00; text-decoration-color: #00af00\">2048</span>)             │            │                   │\n",
              "├─────────────────────┼───────────────────┼────────────┼───────────────────┤\n",
              "│ dropout_1 (<span style=\"color: #0087ff; text-decoration-color: #0087ff\">Dropout</span>) │ (<span style=\"color: #00d7ff; text-decoration-color: #00d7ff\">None</span>, <span style=\"color: #00af00; text-decoration-color: #00af00\">14</span>, <span style=\"color: #00af00; text-decoration-color: #00af00\">14</span>,    │          <span style=\"color: #00af00; text-decoration-color: #00af00\">0</span> │ batch_normalizat… │\n",
              "│                     │ <span style=\"color: #00af00; text-decoration-color: #00af00\">2048</span>)             │            │                   │\n",
              "├─────────────────────┼───────────────────┼────────────┼───────────────────┤\n",
              "│ conv2d_95 (<span style=\"color: #0087ff; text-decoration-color: #0087ff\">Conv2D</span>)  │ (<span style=\"color: #00d7ff; text-decoration-color: #00d7ff\">None</span>, <span style=\"color: #00af00; text-decoration-color: #00af00\">14</span>, <span style=\"color: #00af00; text-decoration-color: #00af00\">14</span>,    │    <span style=\"color: #00af00; text-decoration-color: #00af00\">131,136</span> │ dropout_1[<span style=\"color: #00af00; text-decoration-color: #00af00\">0</span>][<span style=\"color: #00af00; text-decoration-color: #00af00\">0</span>]   │\n",
              "│                     │ <span style=\"color: #00af00; text-decoration-color: #00af00\">64</span>)               │            │                   │\n",
              "├─────────────────────┼───────────────────┼────────────┼───────────────────┤\n",
              "│ conv2d_96 (<span style=\"color: #0087ff; text-decoration-color: #0087ff\">Conv2D</span>)  │ (<span style=\"color: #00d7ff; text-decoration-color: #00d7ff\">None</span>, <span style=\"color: #00af00; text-decoration-color: #00af00\">14</span>, <span style=\"color: #00af00; text-decoration-color: #00af00\">14</span>,    │      <span style=\"color: #00af00; text-decoration-color: #00af00\">1,040</span> │ conv2d_95[<span style=\"color: #00af00; text-decoration-color: #00af00\">0</span>][<span style=\"color: #00af00; text-decoration-color: #00af00\">0</span>]   │\n",
              "│                     │ <span style=\"color: #00af00; text-decoration-color: #00af00\">16</span>)               │            │                   │\n",
              "├─────────────────────┼───────────────────┼────────────┼───────────────────┤\n",
              "│ conv2d_97 (<span style=\"color: #0087ff; text-decoration-color: #0087ff\">Conv2D</span>)  │ (<span style=\"color: #00d7ff; text-decoration-color: #00d7ff\">None</span>, <span style=\"color: #00af00; text-decoration-color: #00af00\">14</span>, <span style=\"color: #00af00; text-decoration-color: #00af00\">14</span>, <span style=\"color: #00af00; text-decoration-color: #00af00\">8</span>) │        <span style=\"color: #00af00; text-decoration-color: #00af00\">136</span> │ conv2d_96[<span style=\"color: #00af00; text-decoration-color: #00af00\">0</span>][<span style=\"color: #00af00; text-decoration-color: #00af00\">0</span>]   │\n",
              "├─────────────────────┼───────────────────┼────────────┼───────────────────┤\n",
              "│ conv2d_98 (<span style=\"color: #0087ff; text-decoration-color: #0087ff\">Conv2D</span>)  │ (<span style=\"color: #00d7ff; text-decoration-color: #00d7ff\">None</span>, <span style=\"color: #00af00; text-decoration-color: #00af00\">14</span>, <span style=\"color: #00af00; text-decoration-color: #00af00\">14</span>, <span style=\"color: #00af00; text-decoration-color: #00af00\">1</span>) │          <span style=\"color: #00af00; text-decoration-color: #00af00\">9</span> │ conv2d_97[<span style=\"color: #00af00; text-decoration-color: #00af00\">0</span>][<span style=\"color: #00af00; text-decoration-color: #00af00\">0</span>]   │\n",
              "├─────────────────────┼───────────────────┼────────────┼───────────────────┤\n",
              "│ conv2d_99 (<span style=\"color: #0087ff; text-decoration-color: #0087ff\">Conv2D</span>)  │ (<span style=\"color: #00d7ff; text-decoration-color: #00d7ff\">None</span>, <span style=\"color: #00af00; text-decoration-color: #00af00\">14</span>, <span style=\"color: #00af00; text-decoration-color: #00af00\">14</span>,    │      <span style=\"color: #00af00; text-decoration-color: #00af00\">2,048</span> │ conv2d_98[<span style=\"color: #00af00; text-decoration-color: #00af00\">0</span>][<span style=\"color: #00af00; text-decoration-color: #00af00\">0</span>]   │\n",
              "│                     │ <span style=\"color: #00af00; text-decoration-color: #00af00\">2048</span>)             │            │                   │\n",
              "├─────────────────────┼───────────────────┼────────────┼───────────────────┤\n",
              "│ multiply_1          │ (<span style=\"color: #00d7ff; text-decoration-color: #00d7ff\">None</span>, <span style=\"color: #00af00; text-decoration-color: #00af00\">14</span>, <span style=\"color: #00af00; text-decoration-color: #00af00\">14</span>,    │          <span style=\"color: #00af00; text-decoration-color: #00af00\">0</span> │ conv2d_99[<span style=\"color: #00af00; text-decoration-color: #00af00\">0</span>][<span style=\"color: #00af00; text-decoration-color: #00af00\">0</span>],  │\n",
              "│ (<span style=\"color: #0087ff; text-decoration-color: #0087ff\">Multiply</span>)          │ <span style=\"color: #00af00; text-decoration-color: #00af00\">2048</span>)             │            │ batch_normalizat… │\n",
              "├─────────────────────┼───────────────────┼────────────┼───────────────────┤\n",
              "│ global_average_poo… │ (<span style=\"color: #00d7ff; text-decoration-color: #00d7ff\">None</span>, <span style=\"color: #00af00; text-decoration-color: #00af00\">2048</span>)      │          <span style=\"color: #00af00; text-decoration-color: #00af00\">0</span> │ multiply_1[<span style=\"color: #00af00; text-decoration-color: #00af00\">0</span>][<span style=\"color: #00af00; text-decoration-color: #00af00\">0</span>]  │\n",
              "│ (<span style=\"color: #0087ff; text-decoration-color: #0087ff\">GlobalAveragePool…</span> │                   │            │                   │\n",
              "├─────────────────────┼───────────────────┼────────────┼───────────────────┤\n",
              "│ global_average_poo… │ (<span style=\"color: #00d7ff; text-decoration-color: #00d7ff\">None</span>, <span style=\"color: #00af00; text-decoration-color: #00af00\">2048</span>)      │          <span style=\"color: #00af00; text-decoration-color: #00af00\">0</span> │ conv2d_99[<span style=\"color: #00af00; text-decoration-color: #00af00\">0</span>][<span style=\"color: #00af00; text-decoration-color: #00af00\">0</span>]   │\n",
              "│ (<span style=\"color: #0087ff; text-decoration-color: #0087ff\">GlobalAveragePool…</span> │                   │            │                   │\n",
              "├─────────────────────┼───────────────────┼────────────┼───────────────────┤\n",
              "│ RescaleGAP (<span style=\"color: #0087ff; text-decoration-color: #0087ff\">Lambda</span>) │ (<span style=\"color: #00d7ff; text-decoration-color: #00d7ff\">None</span>, <span style=\"color: #00af00; text-decoration-color: #00af00\">2048</span>)      │          <span style=\"color: #00af00; text-decoration-color: #00af00\">0</span> │ global_average_p… │\n",
              "│                     │                   │            │ global_average_p… │\n",
              "├─────────────────────┼───────────────────┼────────────┼───────────────────┤\n",
              "│ dropout_2 (<span style=\"color: #0087ff; text-decoration-color: #0087ff\">Dropout</span>) │ (<span style=\"color: #00d7ff; text-decoration-color: #00d7ff\">None</span>, <span style=\"color: #00af00; text-decoration-color: #00af00\">2048</span>)      │          <span style=\"color: #00af00; text-decoration-color: #00af00\">0</span> │ RescaleGAP[<span style=\"color: #00af00; text-decoration-color: #00af00\">0</span>][<span style=\"color: #00af00; text-decoration-color: #00af00\">0</span>]  │\n",
              "├─────────────────────┼───────────────────┼────────────┼───────────────────┤\n",
              "│ dense_1 (<span style=\"color: #0087ff; text-decoration-color: #0087ff\">Dense</span>)     │ (<span style=\"color: #00d7ff; text-decoration-color: #00d7ff\">None</span>, <span style=\"color: #00af00; text-decoration-color: #00af00\">128</span>)       │    <span style=\"color: #00af00; text-decoration-color: #00af00\">262,272</span> │ dropout_2[<span style=\"color: #00af00; text-decoration-color: #00af00\">0</span>][<span style=\"color: #00af00; text-decoration-color: #00af00\">0</span>]   │\n",
              "├─────────────────────┼───────────────────┼────────────┼───────────────────┤\n",
              "│ dropout_3 (<span style=\"color: #0087ff; text-decoration-color: #0087ff\">Dropout</span>) │ (<span style=\"color: #00d7ff; text-decoration-color: #00d7ff\">None</span>, <span style=\"color: #00af00; text-decoration-color: #00af00\">128</span>)       │          <span style=\"color: #00af00; text-decoration-color: #00af00\">0</span> │ dense_1[<span style=\"color: #00af00; text-decoration-color: #00af00\">0</span>][<span style=\"color: #00af00; text-decoration-color: #00af00\">0</span>]     │\n",
              "├─────────────────────┼───────────────────┼────────────┼───────────────────┤\n",
              "│ dense_2 (<span style=\"color: #0087ff; text-decoration-color: #0087ff\">Dense</span>)     │ (<span style=\"color: #00d7ff; text-decoration-color: #00d7ff\">None</span>, <span style=\"color: #00af00; text-decoration-color: #00af00\">5</span>)         │        <span style=\"color: #00af00; text-decoration-color: #00af00\">645</span> │ dropout_3[<span style=\"color: #00af00; text-decoration-color: #00af00\">0</span>][<span style=\"color: #00af00; text-decoration-color: #00af00\">0</span>]   │\n",
              "└─────────────────────┴───────────────────┴────────────┴───────────────────┘\n",
              "</pre>\n"
            ]
          },
          "metadata": {}
        },
        {
          "output_type": "display_data",
          "data": {
            "text/plain": [
              "\u001b[1m Total params: \u001b[0m\u001b[38;5;34m22,208,262\u001b[0m (84.72 MB)\n"
            ],
            "text/html": [
              "<pre style=\"white-space:pre;overflow-x:auto;line-height:normal;font-family:Menlo,'DejaVu Sans Mono',consolas,'Courier New',monospace\"><span style=\"font-weight: bold\"> Total params: </span><span style=\"color: #00af00; text-decoration-color: #00af00\">22,208,262</span> (84.72 MB)\n",
              "</pre>\n"
            ]
          },
          "metadata": {}
        },
        {
          "output_type": "display_data",
          "data": {
            "text/plain": [
              "\u001b[1m Trainable params: \u001b[0m\u001b[38;5;34m399,334\u001b[0m (1.52 MB)\n"
            ],
            "text/html": [
              "<pre style=\"white-space:pre;overflow-x:auto;line-height:normal;font-family:Menlo,'DejaVu Sans Mono',consolas,'Courier New',monospace\"><span style=\"font-weight: bold\"> Trainable params: </span><span style=\"color: #00af00; text-decoration-color: #00af00\">399,334</span> (1.52 MB)\n",
              "</pre>\n"
            ]
          },
          "metadata": {}
        },
        {
          "output_type": "display_data",
          "data": {
            "text/plain": [
              "\u001b[1m Non-trainable params: \u001b[0m\u001b[38;5;34m21,808,928\u001b[0m (83.19 MB)\n"
            ],
            "text/html": [
              "<pre style=\"white-space:pre;overflow-x:auto;line-height:normal;font-family:Menlo,'DejaVu Sans Mono',consolas,'Courier New',monospace\"><span style=\"font-weight: bold\"> Non-trainable params: </span><span style=\"color: #00af00; text-decoration-color: #00af00\">21,808,928</span> (83.19 MB)\n",
              "</pre>\n"
            ]
          },
          "metadata": {}
        }
      ]
    },
    {
      "cell_type": "code",
      "source": [
        "from tensorflow.keras.preprocessing import image\n",
        "import numpy as np"
      ],
      "metadata": {
        "id": "zK1lJuZw_r0q"
      },
      "execution_count": 17,
      "outputs": []
    },
    {
      "cell_type": "code",
      "source": [
        "for layer in retina_model.layers:\n",
        "    weights = layer.get_weights()\n",
        "    if weights:\n",
        "        total_weight_sum = sum([np.sum(np.abs(w)) for w in weights])\n",
        "        print(f\"{layer.name}: Weights loaded, sum = {total_weight_sum:.2f}\")\n",
        "    else:\n",
        "        print(f\"{layer.name}: No weights.\")"
      ],
      "metadata": {
        "colab": {
          "base_uri": "https://localhost:8080/"
        },
        "id": "mfxG8S-v_9LW",
        "outputId": "7412ec19-2f7f-4b01-e3dc-107dc6eedfcf"
      },
      "execution_count": 18,
      "outputs": [
        {
          "output_type": "stream",
          "name": "stdout",
          "text": [
            "input_layer: No weights.\n",
            "inception_v3: Weights loaded, sum = 365519.88\n",
            "batch_normalization_94: Weights loaded, sum = 4096.00\n",
            "dropout_1: No weights.\n",
            "conv2d_95: Weights loaded, sum = 3536.01\n",
            "conv2d_96: Weights loaded, sum = 139.78\n",
            "conv2d_97: Weights loaded, sum = 32.41\n",
            "conv2d_98: Weights loaded, sum = 3.60\n",
            "conv2d_99: Weights loaded, sum = 2048.00\n",
            "multiply_1: No weights.\n",
            "global_average_pooling2d_1: No weights.\n",
            "global_average_pooling2d_2: No weights.\n",
            "RescaleGAP: No weights.\n",
            "dropout_2: No weights.\n",
            "dense_1: Weights loaded, sum = 7012.47\n",
            "dropout_3: No weights.\n",
            "dense_2: Weights loaded, sum = 69.10\n"
          ]
        }
      ]
    },
    {
      "cell_type": "code",
      "source": [
        "import zipfile\n",
        "import os\n",
        "\n",
        "zip_path = '/content/sample.zip'\n",
        "extract_path = '/content/sample_images/'\n",
        "\n",
        "with zipfile.ZipFile(zip_path, 'r') as zip_ref:\n",
        "    zip_ref.extractall(extract_path)"
      ],
      "metadata": {
        "id": "CCTQY5n2AAGU"
      },
      "execution_count": 19,
      "outputs": []
    },
    {
      "cell_type": "code",
      "source": [
        "from tensorflow.keras.preprocessing import image\n",
        "import numpy as np\n",
        "import tensorflow as tf\n",
        "\n",
        "# Helper function to load and preprocess a single image for InceptionV3\n",
        "def preprocess_image(img_path, target_size=(512, 512)):\n",
        "    img = image.load_img(img_path, target_size=target_size)  # Resize to input_shape\n",
        "    img_array = image.img_to_array(img)  # Convert to numpy array\n",
        "    img_array = np.expand_dims(img_array, axis=0)  # Add batch dimension: (1, 512, 512, 3)\n",
        "    img_array = tf.keras.applications.inception_v3.preprocess_input(img_array)  # Apply InceptionV3 preprocessing\n",
        "    return img_array"
      ],
      "metadata": {
        "id": "HkeZXk7hAB9L"
      },
      "execution_count": 20,
      "outputs": []
    },
    {
      "cell_type": "code",
      "source": [
        "import glob\n",
        "\n",
        "image_paths = glob.glob(os.path.join(extract_path, '**', '*.*'), recursive=True)\n",
        "image_paths = [p for p in image_paths if p.lower().endswith(('.png', '.jpg', '.jpeg'))]\n",
        "\n"
      ],
      "metadata": {
        "id": "drAmCX8uADuo"
      },
      "execution_count": 21,
      "outputs": []
    },
    {
      "cell_type": "code",
      "source": [
        "# Step 4: Load and preprocess images\n",
        "images = np.concatenate([preprocess_image(p) for p in image_paths], axis=0) # Change here\n",
        "\n",
        "# Step 5: Predict using your loaded model\n",
        "predictions = retina_model.predict(images)\n",
        "\n",
        "# Step 6: Show predictions\n",
        "predicted_classes = np.argmax(predictions, axis=1)\n",
        "\n",
        "for path, pred_class in zip(image_paths, predicted_classes):\n",
        "    print(f\"{os.path.basename(path)} → Predicted Class: {pred_class}\")"
      ],
      "metadata": {
        "colab": {
          "base_uri": "https://localhost:8080/"
        },
        "id": "-a7XPObgAFm0",
        "outputId": "87800b90-cde0-4fb8-d92f-c316c64519c9"
      },
      "execution_count": 23,
      "outputs": [
        {
          "output_type": "stream",
          "name": "stderr",
          "text": [
            "/usr/local/lib/python3.11/dist-packages/keras/src/models/functional.py:237: UserWarning: The structure of `inputs` doesn't match the expected structure.\n",
            "Expected: ['keras_tensor']\n",
            "Received: inputs=Tensor(shape=(10, 512, 512, 3))\n",
            "  warnings.warn(msg)\n"
          ]
        },
        {
          "output_type": "stream",
          "name": "stdout",
          "text": [
            "\u001b[1m1/1\u001b[0m \u001b[32m━━━━━━━━━━━━━━━━━━━━\u001b[0m\u001b[37m\u001b[0m \u001b[1m11s\u001b[0m 11s/step\n",
            "17_right.jpeg → Predicted Class: 0\n",
            "17_left.jpeg → Predicted Class: 0\n",
            "10_right.jpeg → Predicted Class: 0\n",
            "16_left.jpeg → Predicted Class: 0\n",
            "15_left.jpeg → Predicted Class: 0\n",
            "10_left.jpeg → Predicted Class: 0\n",
            "15_right.jpeg → Predicted Class: 0\n",
            "13_right.jpeg → Predicted Class: 0\n",
            "16_right.jpeg → Predicted Class: 0\n",
            "13_left.jpeg → Predicted Class: 0\n"
          ]
        }
      ]
    },
    {
      "cell_type": "code",
      "source": [
        "class_names = [\"Normal\", \"Mild\", \"Moderate\", \"Severe\", \"Proliferative\"]\n",
        "\n",
        "for path, pred_class in zip(image_paths, predicted_classes):\n",
        "    print(f\"{os.path.basename(path)} → Predicted Class: {class_names[pred_class]}\")"
      ],
      "metadata": {
        "colab": {
          "base_uri": "https://localhost:8080/"
        },
        "id": "0obNz01DAHbN",
        "outputId": "18d83905-8e50-48b6-934d-0da7310060f9"
      },
      "execution_count": 24,
      "outputs": [
        {
          "output_type": "stream",
          "name": "stdout",
          "text": [
            "17_right.jpeg → Predicted Class: Normal\n",
            "17_left.jpeg → Predicted Class: Normal\n",
            "10_right.jpeg → Predicted Class: Normal\n",
            "16_left.jpeg → Predicted Class: Normal\n",
            "15_left.jpeg → Predicted Class: Normal\n",
            "10_left.jpeg → Predicted Class: Normal\n",
            "15_right.jpeg → Predicted Class: Normal\n",
            "13_right.jpeg → Predicted Class: Normal\n",
            "16_right.jpeg → Predicted Class: Normal\n",
            "13_left.jpeg → Predicted Class: Normal\n"
          ]
        }
      ]
    },
    {
      "cell_type": "code",
      "source": [],
      "metadata": {
        "id": "QNLgmj0SBMBF"
      },
      "execution_count": null,
      "outputs": []
    }
  ]
}